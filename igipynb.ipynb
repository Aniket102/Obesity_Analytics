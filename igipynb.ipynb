{
  "nbformat": 4,
  "nbformat_minor": 0,
  "metadata": {
    "colab": {
      "provenance": []
    },
    "kernelspec": {
      "name": "python3",
      "display_name": "Python 3"
    },
    "language_info": {
      "name": "python"
    }
  },
  "cells": [
    {
      "cell_type": "markdown",
      "source": [
        "# INTRODUCTION"
      ],
      "metadata": {
        "id": "Pzu6yM-oX_4i"
      }
    },
    {
      "cell_type": "markdown",
      "source": [
        "**INTRODUCTION**\n",
        "\n",
        "Obesity is strongly associated with multiple risk factors. There are various challenges to better understand the association between risk factors and the occurrence of obesity so the aim of this notebook is to perform **Structure and Content Discovery**  on dataset of obesity level in  Mexico,Peru and Colombia\n",
        "\n",
        "![obesity_causes.png](data:image/png;base64,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)\n",
        "\n"
      ],
      "metadata": {
        "id": "V_Rft1RBXism"
      }
    },
    {
      "cell_type": "markdown",
      "source": [
        "\n",
        "\n",
        "**1.Importing the required Libraries**\n",
        "\n",
        " a) Numpy -: for numerical operations. b) pandas -: for creating dataframe out of csv, as by reading a csv file. c) seaborn -: for graphical representations. d) matplotlib -: for graphical representations.\n",
        "\n",
        "\n",
        "\n",
        "\n"
      ],
      "metadata": {
        "id": "a2t6jbe6AyiK"
      }
    },
    {
      "cell_type": "code",
      "execution_count": null,
      "metadata": {
        "id": "2DhnDGFV8GRN"
      },
      "outputs": [],
      "source": [
        "import numpy as np\n",
        "import pandas as pd\n",
        "import seaborn as sns\n",
        "import matplotlib.pyplot as plt "
      ]
    },
    {
      "cell_type": "markdown",
      "source": [
        "\n",
        "\n",
        "**2. Loading the Dataset**\n",
        "\n",
        " a) As we are using google colab first we have to mount the drive by running the\n",
        " command below then b) we have to read csv file uisng pd.read_csv function  c)then to cehck if data is loaded properly we have used data.head to display the top data entries in our dataset\n",
        "\n",
        "\n",
        "\n"
      ],
      "metadata": {
        "id": "bnlhWUP9Blo5"
      }
    },
    {
      "cell_type": "code",
      "source": [
        "from google.colab import drive\n",
        "drive.mount('/content/drive')"
      ],
      "metadata": {
        "colab": {
          "base_uri": "https://localhost:8080/"
        },
        "id": "QTYfaVVV8iaK",
        "outputId": "85ef0a64-0ea3-4eaa-f15f-87c6a2ae924b"
      },
      "execution_count": null,
      "outputs": [
        {
          "output_type": "stream",
          "name": "stdout",
          "text": [
            "Mounted at /content/drive\n"
          ]
        }
      ]
    },
    {
      "cell_type": "code",
      "source": [
        "data = pd.read_csv('/content/drive/MyDrive/ig/ObesityDataSet_raw_and_data_sinthetic.csv')"
      ],
      "metadata": {
        "id": "03GP9UdX8lzR"
      },
      "execution_count": null,
      "outputs": []
    },
    {
      "cell_type": "code",
      "source": [
        "data.head()"
      ],
      "metadata": {
        "colab": {
          "base_uri": "https://localhost:8080/",
          "height": 270
        },
        "id": "66Rf9YQM8zzt",
        "outputId": "01b59c8f-b903-425a-a782-84f28f2a7d23"
      },
      "execution_count": null,
      "outputs": [
        {
          "output_type": "execute_result",
          "data": {
            "text/plain": [
              "   Gender   Age  Height  Weight family_history_with_overweight FAVC  FCVC  \\\n",
              "0  Female  21.0    1.62    64.0                            yes   no   2.0   \n",
              "1  Female  21.0    1.52    56.0                            yes   no   3.0   \n",
              "2    Male  23.0    1.80    77.0                            yes   no   2.0   \n",
              "3    Male  27.0    1.80    87.0                             no   no   3.0   \n",
              "4    Male  22.0    1.78    89.8                             no   no   2.0   \n",
              "\n",
              "   NCP       CAEC SMOKE  CH2O  SCC  FAF  TUE        CALC  \\\n",
              "0  3.0  Sometimes    no   2.0   no  0.0  1.0          no   \n",
              "1  3.0  Sometimes   yes   3.0  yes  3.0  0.0   Sometimes   \n",
              "2  3.0  Sometimes    no   2.0   no  2.0  1.0  Frequently   \n",
              "3  3.0  Sometimes    no   2.0   no  2.0  0.0  Frequently   \n",
              "4  1.0  Sometimes    no   2.0   no  0.0  0.0   Sometimes   \n",
              "\n",
              "                  MTRANS           NObeyesdad  \n",
              "0  Public_Transportation        Normal_Weight  \n",
              "1  Public_Transportation        Normal_Weight  \n",
              "2  Public_Transportation        Normal_Weight  \n",
              "3                Walking   Overweight_Level_I  \n",
              "4  Public_Transportation  Overweight_Level_II  "
            ],
            "text/html": [
              "\n",
              "  <div id=\"df-a4752e47-aba1-40a5-b141-0b2cc127fd04\">\n",
              "    <div class=\"colab-df-container\">\n",
              "      <div>\n",
              "<style scoped>\n",
              "    .dataframe tbody tr th:only-of-type {\n",
              "        vertical-align: middle;\n",
              "    }\n",
              "\n",
              "    .dataframe tbody tr th {\n",
              "        vertical-align: top;\n",
              "    }\n",
              "\n",
              "    .dataframe thead th {\n",
              "        text-align: right;\n",
              "    }\n",
              "</style>\n",
              "<table border=\"1\" class=\"dataframe\">\n",
              "  <thead>\n",
              "    <tr style=\"text-align: right;\">\n",
              "      <th></th>\n",
              "      <th>Gender</th>\n",
              "      <th>Age</th>\n",
              "      <th>Height</th>\n",
              "      <th>Weight</th>\n",
              "      <th>family_history_with_overweight</th>\n",
              "      <th>FAVC</th>\n",
              "      <th>FCVC</th>\n",
              "      <th>NCP</th>\n",
              "      <th>CAEC</th>\n",
              "      <th>SMOKE</th>\n",
              "      <th>CH2O</th>\n",
              "      <th>SCC</th>\n",
              "      <th>FAF</th>\n",
              "      <th>TUE</th>\n",
              "      <th>CALC</th>\n",
              "      <th>MTRANS</th>\n",
              "      <th>NObeyesdad</th>\n",
              "    </tr>\n",
              "  </thead>\n",
              "  <tbody>\n",
              "    <tr>\n",
              "      <th>0</th>\n",
              "      <td>Female</td>\n",
              "      <td>21.0</td>\n",
              "      <td>1.62</td>\n",
              "      <td>64.0</td>\n",
              "      <td>yes</td>\n",
              "      <td>no</td>\n",
              "      <td>2.0</td>\n",
              "      <td>3.0</td>\n",
              "      <td>Sometimes</td>\n",
              "      <td>no</td>\n",
              "      <td>2.0</td>\n",
              "      <td>no</td>\n",
              "      <td>0.0</td>\n",
              "      <td>1.0</td>\n",
              "      <td>no</td>\n",
              "      <td>Public_Transportation</td>\n",
              "      <td>Normal_Weight</td>\n",
              "    </tr>\n",
              "    <tr>\n",
              "      <th>1</th>\n",
              "      <td>Female</td>\n",
              "      <td>21.0</td>\n",
              "      <td>1.52</td>\n",
              "      <td>56.0</td>\n",
              "      <td>yes</td>\n",
              "      <td>no</td>\n",
              "      <td>3.0</td>\n",
              "      <td>3.0</td>\n",
              "      <td>Sometimes</td>\n",
              "      <td>yes</td>\n",
              "      <td>3.0</td>\n",
              "      <td>yes</td>\n",
              "      <td>3.0</td>\n",
              "      <td>0.0</td>\n",
              "      <td>Sometimes</td>\n",
              "      <td>Public_Transportation</td>\n",
              "      <td>Normal_Weight</td>\n",
              "    </tr>\n",
              "    <tr>\n",
              "      <th>2</th>\n",
              "      <td>Male</td>\n",
              "      <td>23.0</td>\n",
              "      <td>1.80</td>\n",
              "      <td>77.0</td>\n",
              "      <td>yes</td>\n",
              "      <td>no</td>\n",
              "      <td>2.0</td>\n",
              "      <td>3.0</td>\n",
              "      <td>Sometimes</td>\n",
              "      <td>no</td>\n",
              "      <td>2.0</td>\n",
              "      <td>no</td>\n",
              "      <td>2.0</td>\n",
              "      <td>1.0</td>\n",
              "      <td>Frequently</td>\n",
              "      <td>Public_Transportation</td>\n",
              "      <td>Normal_Weight</td>\n",
              "    </tr>\n",
              "    <tr>\n",
              "      <th>3</th>\n",
              "      <td>Male</td>\n",
              "      <td>27.0</td>\n",
              "      <td>1.80</td>\n",
              "      <td>87.0</td>\n",
              "      <td>no</td>\n",
              "      <td>no</td>\n",
              "      <td>3.0</td>\n",
              "      <td>3.0</td>\n",
              "      <td>Sometimes</td>\n",
              "      <td>no</td>\n",
              "      <td>2.0</td>\n",
              "      <td>no</td>\n",
              "      <td>2.0</td>\n",
              "      <td>0.0</td>\n",
              "      <td>Frequently</td>\n",
              "      <td>Walking</td>\n",
              "      <td>Overweight_Level_I</td>\n",
              "    </tr>\n",
              "    <tr>\n",
              "      <th>4</th>\n",
              "      <td>Male</td>\n",
              "      <td>22.0</td>\n",
              "      <td>1.78</td>\n",
              "      <td>89.8</td>\n",
              "      <td>no</td>\n",
              "      <td>no</td>\n",
              "      <td>2.0</td>\n",
              "      <td>1.0</td>\n",
              "      <td>Sometimes</td>\n",
              "      <td>no</td>\n",
              "      <td>2.0</td>\n",
              "      <td>no</td>\n",
              "      <td>0.0</td>\n",
              "      <td>0.0</td>\n",
              "      <td>Sometimes</td>\n",
              "      <td>Public_Transportation</td>\n",
              "      <td>Overweight_Level_II</td>\n",
              "    </tr>\n",
              "  </tbody>\n",
              "</table>\n",
              "</div>\n",
              "      <button class=\"colab-df-convert\" onclick=\"convertToInteractive('df-a4752e47-aba1-40a5-b141-0b2cc127fd04')\"\n",
              "              title=\"Convert this dataframe to an interactive table.\"\n",
              "              style=\"display:none;\">\n",
              "        \n",
              "  <svg xmlns=\"http://www.w3.org/2000/svg\" height=\"24px\"viewBox=\"0 0 24 24\"\n",
              "       width=\"24px\">\n",
              "    <path d=\"M0 0h24v24H0V0z\" fill=\"none\"/>\n",
              "    <path d=\"M18.56 5.44l.94 2.06.94-2.06 2.06-.94-2.06-.94-.94-2.06-.94 2.06-2.06.94zm-11 1L8.5 8.5l.94-2.06 2.06-.94-2.06-.94L8.5 2.5l-.94 2.06-2.06.94zm10 10l.94 2.06.94-2.06 2.06-.94-2.06-.94-.94-2.06-.94 2.06-2.06.94z\"/><path d=\"M17.41 7.96l-1.37-1.37c-.4-.4-.92-.59-1.43-.59-.52 0-1.04.2-1.43.59L10.3 9.45l-7.72 7.72c-.78.78-.78 2.05 0 2.83L4 21.41c.39.39.9.59 1.41.59.51 0 1.02-.2 1.41-.59l7.78-7.78 2.81-2.81c.8-.78.8-2.07 0-2.86zM5.41 20L4 18.59l7.72-7.72 1.47 1.35L5.41 20z\"/>\n",
              "  </svg>\n",
              "      </button>\n",
              "      \n",
              "  <style>\n",
              "    .colab-df-container {\n",
              "      display:flex;\n",
              "      flex-wrap:wrap;\n",
              "      gap: 12px;\n",
              "    }\n",
              "\n",
              "    .colab-df-convert {\n",
              "      background-color: #E8F0FE;\n",
              "      border: none;\n",
              "      border-radius: 50%;\n",
              "      cursor: pointer;\n",
              "      display: none;\n",
              "      fill: #1967D2;\n",
              "      height: 32px;\n",
              "      padding: 0 0 0 0;\n",
              "      width: 32px;\n",
              "    }\n",
              "\n",
              "    .colab-df-convert:hover {\n",
              "      background-color: #E2EBFA;\n",
              "      box-shadow: 0px 1px 2px rgba(60, 64, 67, 0.3), 0px 1px 3px 1px rgba(60, 64, 67, 0.15);\n",
              "      fill: #174EA6;\n",
              "    }\n",
              "\n",
              "    [theme=dark] .colab-df-convert {\n",
              "      background-color: #3B4455;\n",
              "      fill: #D2E3FC;\n",
              "    }\n",
              "\n",
              "    [theme=dark] .colab-df-convert:hover {\n",
              "      background-color: #434B5C;\n",
              "      box-shadow: 0px 1px 3px 1px rgba(0, 0, 0, 0.15);\n",
              "      filter: drop-shadow(0px 1px 2px rgba(0, 0, 0, 0.3));\n",
              "      fill: #FFFFFF;\n",
              "    }\n",
              "  </style>\n",
              "\n",
              "      <script>\n",
              "        const buttonEl =\n",
              "          document.querySelector('#df-a4752e47-aba1-40a5-b141-0b2cc127fd04 button.colab-df-convert');\n",
              "        buttonEl.style.display =\n",
              "          google.colab.kernel.accessAllowed ? 'block' : 'none';\n",
              "\n",
              "        async function convertToInteractive(key) {\n",
              "          const element = document.querySelector('#df-a4752e47-aba1-40a5-b141-0b2cc127fd04');\n",
              "          const dataTable =\n",
              "            await google.colab.kernel.invokeFunction('convertToInteractive',\n",
              "                                                     [key], {});\n",
              "          if (!dataTable) return;\n",
              "\n",
              "          const docLinkHtml = 'Like what you see? Visit the ' +\n",
              "            '<a target=\"_blank\" href=https://colab.research.google.com/notebooks/data_table.ipynb>data table notebook</a>'\n",
              "            + ' to learn more about interactive tables.';\n",
              "          element.innerHTML = '';\n",
              "          dataTable['output_type'] = 'display_data';\n",
              "          await google.colab.output.renderOutput(dataTable, element);\n",
              "          const docLink = document.createElement('div');\n",
              "          docLink.innerHTML = docLinkHtml;\n",
              "          element.appendChild(docLink);\n",
              "        }\n",
              "      </script>\n",
              "    </div>\n",
              "  </div>\n",
              "  "
            ]
          },
          "metadata": {},
          "execution_count": 4
        }
      ]
    },
    {
      "cell_type": "markdown",
      "source": [
        "# Data Analysis"
      ],
      "metadata": {
        "id": "P_2KGz33TcEy"
      }
    },
    {
      "cell_type": "markdown",
      "source": [
        "**3.Data Analysis**\n",
        "\n",
        "Now here comes the fun part lets take a deep dive into the Data\n",
        "\n",
        "\n"
      ],
      "metadata": {
        "id": "g0bW7JEdDM8v"
      }
    },
    {
      "cell_type": "markdown",
      "source": [
        "Here we will get the basic info about the data As we can see there are 17 columns here with 2111 entries in total .The data type of the columns are also mentioned here which comes in very handy while performing operations upon specific columns"
      ],
      "metadata": {
        "id": "Ei7NG0dAD7bT"
      }
    },
    {
      "cell_type": "code",
      "source": [
        "data.info()"
      ],
      "metadata": {
        "colab": {
          "base_uri": "https://localhost:8080/"
        },
        "id": "I7SGhrI3859A",
        "outputId": "9f1eeaf3-02c4-42e1-a7cb-4dcf9ec5b2ea"
      },
      "execution_count": null,
      "outputs": [
        {
          "output_type": "stream",
          "name": "stdout",
          "text": [
            "<class 'pandas.core.frame.DataFrame'>\n",
            "RangeIndex: 2111 entries, 0 to 2110\n",
            "Data columns (total 17 columns):\n",
            " #   Column                          Non-Null Count  Dtype  \n",
            "---  ------                          --------------  -----  \n",
            " 0   Gender                          2111 non-null   object \n",
            " 1   Age                             2111 non-null   float64\n",
            " 2   Height                          2111 non-null   float64\n",
            " 3   Weight                          2111 non-null   float64\n",
            " 4   family_history_with_overweight  2111 non-null   object \n",
            " 5   FAVC                            2111 non-null   object \n",
            " 6   FCVC                            2111 non-null   float64\n",
            " 7   NCP                             2111 non-null   float64\n",
            " 8   CAEC                            2111 non-null   object \n",
            " 9   SMOKE                           2111 non-null   object \n",
            " 10  CH2O                            2111 non-null   float64\n",
            " 11  SCC                             2111 non-null   object \n",
            " 12  FAF                             2111 non-null   float64\n",
            " 13  TUE                             2111 non-null   float64\n",
            " 14  CALC                            2111 non-null   object \n",
            " 15  MTRANS                          2111 non-null   object \n",
            " 16  NObeyesdad                      2111 non-null   object \n",
            "dtypes: float64(8), object(9)\n",
            "memory usage: 280.5+ KB\n"
          ]
        }
      ]
    },
    {
      "cell_type": "markdown",
      "source": [
        "There are two classes of data: Qualitative and Quantitative data, which are further classified into four types: a)nominal(ex-gender) b)ordinal(Ex-Calc column) c)discrete (Ex-Age) d) Continuous(Ex-weight)."
      ],
      "metadata": {
        "id": "mF48Au45J2SR"
      }
    },
    {
      "cell_type": "markdown",
      "source": [
        "**3.1 Checking for null values** \n",
        "\n",
        "The function is null returns true if null value found "
      ],
      "metadata": {
        "id": "FS3q6G13FBtS"
      }
    },
    {
      "cell_type": "code",
      "source": [
        "data[data.isnull().any(axis=1)]\n"
      ],
      "metadata": {
        "colab": {
          "base_uri": "https://localhost:8080/",
          "height": 113
        },
        "id": "CvPRT7m0-kC_",
        "outputId": "4d70a086-98b4-4d6a-adc6-496012cd170f"
      },
      "execution_count": null,
      "outputs": [
        {
          "output_type": "execute_result",
          "data": {
            "text/plain": [
              "Empty DataFrame\n",
              "Columns: [Gender, Age, Height, Weight, family_history_with_overweight, FAVC, FCVC, NCP, CAEC, SMOKE, CH2O, SCC, FAF, TUE, CALC, MTRANS, NObeyesdad]\n",
              "Index: []"
            ],
            "text/html": [
              "\n",
              "  <div id=\"df-e519910f-a53b-4aff-a5c3-34e4b61b973c\">\n",
              "    <div class=\"colab-df-container\">\n",
              "      <div>\n",
              "<style scoped>\n",
              "    .dataframe tbody tr th:only-of-type {\n",
              "        vertical-align: middle;\n",
              "    }\n",
              "\n",
              "    .dataframe tbody tr th {\n",
              "        vertical-align: top;\n",
              "    }\n",
              "\n",
              "    .dataframe thead th {\n",
              "        text-align: right;\n",
              "    }\n",
              "</style>\n",
              "<table border=\"1\" class=\"dataframe\">\n",
              "  <thead>\n",
              "    <tr style=\"text-align: right;\">\n",
              "      <th></th>\n",
              "      <th>Gender</th>\n",
              "      <th>Age</th>\n",
              "      <th>Height</th>\n",
              "      <th>Weight</th>\n",
              "      <th>family_history_with_overweight</th>\n",
              "      <th>FAVC</th>\n",
              "      <th>FCVC</th>\n",
              "      <th>NCP</th>\n",
              "      <th>CAEC</th>\n",
              "      <th>SMOKE</th>\n",
              "      <th>CH2O</th>\n",
              "      <th>SCC</th>\n",
              "      <th>FAF</th>\n",
              "      <th>TUE</th>\n",
              "      <th>CALC</th>\n",
              "      <th>MTRANS</th>\n",
              "      <th>NObeyesdad</th>\n",
              "    </tr>\n",
              "  </thead>\n",
              "  <tbody>\n",
              "  </tbody>\n",
              "</table>\n",
              "</div>\n",
              "      <button class=\"colab-df-convert\" onclick=\"convertToInteractive('df-e519910f-a53b-4aff-a5c3-34e4b61b973c')\"\n",
              "              title=\"Convert this dataframe to an interactive table.\"\n",
              "              style=\"display:none;\">\n",
              "        \n",
              "  <svg xmlns=\"http://www.w3.org/2000/svg\" height=\"24px\"viewBox=\"0 0 24 24\"\n",
              "       width=\"24px\">\n",
              "    <path d=\"M0 0h24v24H0V0z\" fill=\"none\"/>\n",
              "    <path d=\"M18.56 5.44l.94 2.06.94-2.06 2.06-.94-2.06-.94-.94-2.06-.94 2.06-2.06.94zm-11 1L8.5 8.5l.94-2.06 2.06-.94-2.06-.94L8.5 2.5l-.94 2.06-2.06.94zm10 10l.94 2.06.94-2.06 2.06-.94-2.06-.94-.94-2.06-.94 2.06-2.06.94z\"/><path d=\"M17.41 7.96l-1.37-1.37c-.4-.4-.92-.59-1.43-.59-.52 0-1.04.2-1.43.59L10.3 9.45l-7.72 7.72c-.78.78-.78 2.05 0 2.83L4 21.41c.39.39.9.59 1.41.59.51 0 1.02-.2 1.41-.59l7.78-7.78 2.81-2.81c.8-.78.8-2.07 0-2.86zM5.41 20L4 18.59l7.72-7.72 1.47 1.35L5.41 20z\"/>\n",
              "  </svg>\n",
              "      </button>\n",
              "      \n",
              "  <style>\n",
              "    .colab-df-container {\n",
              "      display:flex;\n",
              "      flex-wrap:wrap;\n",
              "      gap: 12px;\n",
              "    }\n",
              "\n",
              "    .colab-df-convert {\n",
              "      background-color: #E8F0FE;\n",
              "      border: none;\n",
              "      border-radius: 50%;\n",
              "      cursor: pointer;\n",
              "      display: none;\n",
              "      fill: #1967D2;\n",
              "      height: 32px;\n",
              "      padding: 0 0 0 0;\n",
              "      width: 32px;\n",
              "    }\n",
              "\n",
              "    .colab-df-convert:hover {\n",
              "      background-color: #E2EBFA;\n",
              "      box-shadow: 0px 1px 2px rgba(60, 64, 67, 0.3), 0px 1px 3px 1px rgba(60, 64, 67, 0.15);\n",
              "      fill: #174EA6;\n",
              "    }\n",
              "\n",
              "    [theme=dark] .colab-df-convert {\n",
              "      background-color: #3B4455;\n",
              "      fill: #D2E3FC;\n",
              "    }\n",
              "\n",
              "    [theme=dark] .colab-df-convert:hover {\n",
              "      background-color: #434B5C;\n",
              "      box-shadow: 0px 1px 3px 1px rgba(0, 0, 0, 0.15);\n",
              "      filter: drop-shadow(0px 1px 2px rgba(0, 0, 0, 0.3));\n",
              "      fill: #FFFFFF;\n",
              "    }\n",
              "  </style>\n",
              "\n",
              "      <script>\n",
              "        const buttonEl =\n",
              "          document.querySelector('#df-e519910f-a53b-4aff-a5c3-34e4b61b973c button.colab-df-convert');\n",
              "        buttonEl.style.display =\n",
              "          google.colab.kernel.accessAllowed ? 'block' : 'none';\n",
              "\n",
              "        async function convertToInteractive(key) {\n",
              "          const element = document.querySelector('#df-e519910f-a53b-4aff-a5c3-34e4b61b973c');\n",
              "          const dataTable =\n",
              "            await google.colab.kernel.invokeFunction('convertToInteractive',\n",
              "                                                     [key], {});\n",
              "          if (!dataTable) return;\n",
              "\n",
              "          const docLinkHtml = 'Like what you see? Visit the ' +\n",
              "            '<a target=\"_blank\" href=https://colab.research.google.com/notebooks/data_table.ipynb>data table notebook</a>'\n",
              "            + ' to learn more about interactive tables.';\n",
              "          element.innerHTML = '';\n",
              "          dataTable['output_type'] = 'display_data';\n",
              "          await google.colab.output.renderOutput(dataTable, element);\n",
              "          const docLink = document.createElement('div');\n",
              "          docLink.innerHTML = docLinkHtml;\n",
              "          element.appendChild(docLink);\n",
              "        }\n",
              "      </script>\n",
              "    </div>\n",
              "  </div>\n",
              "  "
            ]
          },
          "metadata": {},
          "execution_count": 10
        }
      ]
    },
    {
      "cell_type": "markdown",
      "source": [
        "Another methood for checking null values is by drawing Heatmap \n",
        "Heatmap depicts density of particular value where the value is depicted from colour its a very strong visualisation methood which comes very handy\n",
        "The null values in the columnns can be diplayed by heatmap using sns heatmap function.It is quite useful while lokking for frequncy of null values in difrrent columns of our datset.**Luckily we dont have any null values here**"
      ],
      "metadata": {
        "id": "2W6Hew3TMBru"
      }
    },
    {
      "cell_type": "code",
      "source": [
        "sns.heatmap(data.isnull(),yticklabels=False,cbar=False,cmap='viridis').set_title(\"Missing values Heatmap\")\n",
        "#heatmap to display null values"
      ],
      "metadata": {
        "colab": {
          "base_uri": "https://localhost:8080/",
          "height": 446
        },
        "id": "qujIKjmf-X2G",
        "outputId": "6b6fcaf1-fec3-4db1-f465-00a2f72cdca5"
      },
      "execution_count": null,
      "outputs": [
        {
          "output_type": "execute_result",
          "data": {
            "text/plain": [
              "Text(0.5, 1.0, 'Missing values Heatmap')"
            ]
          },
          "metadata": {},
          "execution_count": 8
        },
        {
          "output_type": "display_data",
          "data": {
            "text/plain": [
              "<Figure size 432x288 with 1 Axes>"
            ],
            "image/png": "[encoded data removed]"
          },
          "metadata": {
            "needs_background": "light"
          }
        }
      ]
    },
    {
      "cell_type": "markdown",
      "source": [
        "**3.2 Did you Know that basic data description can tell us a lot of story about data**\n",
        "\n",
        "So here we will use describe function to get  bascs stats about the data"
      ],
      "metadata": {
        "id": "0RA4P5k8EzU8"
      }
    },
    {
      "cell_type": "code",
      "source": [
        "data.describe()"
      ],
      "metadata": {
        "colab": {
          "base_uri": "https://localhost:8080/",
          "height": 300
        },
        "id": "p2lQnXqL9AhM",
        "outputId": "d85b55a1-d281-4c4e-ff52-fd317809f692"
      },
      "execution_count": null,
      "outputs": [
        {
          "output_type": "execute_result",
          "data": {
            "text/plain": [
              "               Age       Height       Weight         FCVC          NCP  \\\n",
              "count  2111.000000  2111.000000  2111.000000  2111.000000  2111.000000   \n",
              "mean     24.312600     1.701677    86.586058     2.419043     2.685628   \n",
              "std       6.345968     0.093305    26.191172     0.533927     0.778039   \n",
              "min      14.000000     1.450000    39.000000     1.000000     1.000000   \n",
              "25%      19.947192     1.630000    65.473343     2.000000     2.658738   \n",
              "50%      22.777890     1.700499    83.000000     2.385502     3.000000   \n",
              "75%      26.000000     1.768464   107.430682     3.000000     3.000000   \n",
              "max      61.000000     1.980000   173.000000     3.000000     4.000000   \n",
              "\n",
              "              CH2O          FAF          TUE  \n",
              "count  2111.000000  2111.000000  2111.000000  \n",
              "mean      2.008011     1.010298     0.657866  \n",
              "std       0.612953     0.850592     0.608927  \n",
              "min       1.000000     0.000000     0.000000  \n",
              "25%       1.584812     0.124505     0.000000  \n",
              "50%       2.000000     1.000000     0.625350  \n",
              "75%       2.477420     1.666678     1.000000  \n",
              "max       3.000000     3.000000     2.000000  "
            ],
            "text/html": [
              "\n",
              "  <div id=\"df-b1f7ac5b-c2fb-4f66-91ab-7495a1eea0e2\">\n",
              "    <div class=\"colab-df-container\">\n",
              "      <div>\n",
              "<style scoped>\n",
              "    .dataframe tbody tr th:only-of-type {\n",
              "        vertical-align: middle;\n",
              "    }\n",
              "\n",
              "    .dataframe tbody tr th {\n",
              "        vertical-align: top;\n",
              "    }\n",
              "\n",
              "    .dataframe thead th {\n",
              "        text-align: right;\n",
              "    }\n",
              "</style>\n",
              "<table border=\"1\" class=\"dataframe\">\n",
              "  <thead>\n",
              "    <tr style=\"text-align: right;\">\n",
              "      <th></th>\n",
              "      <th>Age</th>\n",
              "      <th>Height</th>\n",
              "      <th>Weight</th>\n",
              "      <th>FCVC</th>\n",
              "      <th>NCP</th>\n",
              "      <th>CH2O</th>\n",
              "      <th>FAF</th>\n",
              "      <th>TUE</th>\n",
              "    </tr>\n",
              "  </thead>\n",
              "  <tbody>\n",
              "    <tr>\n",
              "      <th>count</th>\n",
              "      <td>2111.000000</td>\n",
              "      <td>2111.000000</td>\n",
              "      <td>2111.000000</td>\n",
              "      <td>2111.000000</td>\n",
              "      <td>2111.000000</td>\n",
              "      <td>2111.000000</td>\n",
              "      <td>2111.000000</td>\n",
              "      <td>2111.000000</td>\n",
              "    </tr>\n",
              "    <tr>\n",
              "      <th>mean</th>\n",
              "      <td>24.312600</td>\n",
              "      <td>1.701677</td>\n",
              "      <td>86.586058</td>\n",
              "      <td>2.419043</td>\n",
              "      <td>2.685628</td>\n",
              "      <td>2.008011</td>\n",
              "      <td>1.010298</td>\n",
              "      <td>0.657866</td>\n",
              "    </tr>\n",
              "    <tr>\n",
              "      <th>std</th>\n",
              "      <td>6.345968</td>\n",
              "      <td>0.093305</td>\n",
              "      <td>26.191172</td>\n",
              "      <td>0.533927</td>\n",
              "      <td>0.778039</td>\n",
              "      <td>0.612953</td>\n",
              "      <td>0.850592</td>\n",
              "      <td>0.608927</td>\n",
              "    </tr>\n",
              "    <tr>\n",
              "      <th>min</th>\n",
              "      <td>14.000000</td>\n",
              "      <td>1.450000</td>\n",
              "      <td>39.000000</td>\n",
              "      <td>1.000000</td>\n",
              "      <td>1.000000</td>\n",
              "      <td>1.000000</td>\n",
              "      <td>0.000000</td>\n",
              "      <td>0.000000</td>\n",
              "    </tr>\n",
              "    <tr>\n",
              "      <th>25%</th>\n",
              "      <td>19.947192</td>\n",
              "      <td>1.630000</td>\n",
              "      <td>65.473343</td>\n",
              "      <td>2.000000</td>\n",
              "      <td>2.658738</td>\n",
              "      <td>1.584812</td>\n",
              "      <td>0.124505</td>\n",
              "      <td>0.000000</td>\n",
              "    </tr>\n",
              "    <tr>\n",
              "      <th>50%</th>\n",
              "      <td>22.777890</td>\n",
              "      <td>1.700499</td>\n",
              "      <td>83.000000</td>\n",
              "      <td>2.385502</td>\n",
              "      <td>3.000000</td>\n",
              "      <td>2.000000</td>\n",
              "      <td>1.000000</td>\n",
              "      <td>0.625350</td>\n",
              "    </tr>\n",
              "    <tr>\n",
              "      <th>75%</th>\n",
              "      <td>26.000000</td>\n",
              "      <td>1.768464</td>\n",
              "      <td>107.430682</td>\n",
              "      <td>3.000000</td>\n",
              "      <td>3.000000</td>\n",
              "      <td>2.477420</td>\n",
              "      <td>1.666678</td>\n",
              "      <td>1.000000</td>\n",
              "    </tr>\n",
              "    <tr>\n",
              "      <th>max</th>\n",
              "      <td>61.000000</td>\n",
              "      <td>1.980000</td>\n",
              "      <td>173.000000</td>\n",
              "      <td>3.000000</td>\n",
              "      <td>4.000000</td>\n",
              "      <td>3.000000</td>\n",
              "      <td>3.000000</td>\n",
              "      <td>2.000000</td>\n",
              "    </tr>\n",
              "  </tbody>\n",
              "</table>\n",
              "</div>\n",
              "      <button class=\"colab-df-convert\" onclick=\"convertToInteractive('df-b1f7ac5b-c2fb-4f66-91ab-7495a1eea0e2')\"\n",
              "              title=\"Convert this dataframe to an interactive table.\"\n",
              "              style=\"display:none;\">\n",
              "        \n",
              "  <svg xmlns=\"http://www.w3.org/2000/svg\" height=\"24px\"viewBox=\"0 0 24 24\"\n",
              "       width=\"24px\">\n",
              "    <path d=\"M0 0h24v24H0V0z\" fill=\"none\"/>\n",
              "    <path d=\"M18.56 5.44l.94 2.06.94-2.06 2.06-.94-2.06-.94-.94-2.06-.94 2.06-2.06.94zm-11 1L8.5 8.5l.94-2.06 2.06-.94-2.06-.94L8.5 2.5l-.94 2.06-2.06.94zm10 10l.94 2.06.94-2.06 2.06-.94-2.06-.94-.94-2.06-.94 2.06-2.06.94z\"/><path d=\"M17.41 7.96l-1.37-1.37c-.4-.4-.92-.59-1.43-.59-.52 0-1.04.2-1.43.59L10.3 9.45l-7.72 7.72c-.78.78-.78 2.05 0 2.83L4 21.41c.39.39.9.59 1.41.59.51 0 1.02-.2 1.41-.59l7.78-7.78 2.81-2.81c.8-.78.8-2.07 0-2.86zM5.41 20L4 18.59l7.72-7.72 1.47 1.35L5.41 20z\"/>\n",
              "  </svg>\n",
              "      </button>\n",
              "      \n",
              "  <style>\n",
              "    .colab-df-container {\n",
              "      display:flex;\n",
              "      flex-wrap:wrap;\n",
              "      gap: 12px;\n",
              "    }\n",
              "\n",
              "    .colab-df-convert {\n",
              "      background-color: #E8F0FE;\n",
              "      border: none;\n",
              "      border-radius: 50%;\n",
              "      cursor: pointer;\n",
              "      display: none;\n",
              "      fill: #1967D2;\n",
              "      height: 32px;\n",
              "      padding: 0 0 0 0;\n",
              "      width: 32px;\n",
              "    }\n",
              "\n",
              "    .colab-df-convert:hover {\n",
              "      background-color: #E2EBFA;\n",
              "      box-shadow: 0px 1px 2px rgba(60, 64, 67, 0.3), 0px 1px 3px 1px rgba(60, 64, 67, 0.15);\n",
              "      fill: #174EA6;\n",
              "    }\n",
              "\n",
              "    [theme=dark] .colab-df-convert {\n",
              "      background-color: #3B4455;\n",
              "      fill: #D2E3FC;\n",
              "    }\n",
              "\n",
              "    [theme=dark] .colab-df-convert:hover {\n",
              "      background-color: #434B5C;\n",
              "      box-shadow: 0px 1px 3px 1px rgba(0, 0, 0, 0.15);\n",
              "      filter: drop-shadow(0px 1px 2px rgba(0, 0, 0, 0.3));\n",
              "      fill: #FFFFFF;\n",
              "    }\n",
              "  </style>\n",
              "\n",
              "      <script>\n",
              "        const buttonEl =\n",
              "          document.querySelector('#df-b1f7ac5b-c2fb-4f66-91ab-7495a1eea0e2 button.colab-df-convert');\n",
              "        buttonEl.style.display =\n",
              "          google.colab.kernel.accessAllowed ? 'block' : 'none';\n",
              "\n",
              "        async function convertToInteractive(key) {\n",
              "          const element = document.querySelector('#df-b1f7ac5b-c2fb-4f66-91ab-7495a1eea0e2');\n",
              "          const dataTable =\n",
              "            await google.colab.kernel.invokeFunction('convertToInteractive',\n",
              "                                                     [key], {});\n",
              "          if (!dataTable) return;\n",
              "\n",
              "          const docLinkHtml = 'Like what you see? Visit the ' +\n",
              "            '<a target=\"_blank\" href=https://colab.research.google.com/notebooks/data_table.ipynb>data table notebook</a>'\n",
              "            + ' to learn more about interactive tables.';\n",
              "          element.innerHTML = '';\n",
              "          dataTable['output_type'] = 'display_data';\n",
              "          await google.colab.output.renderOutput(dataTable, element);\n",
              "          const docLink = document.createElement('div');\n",
              "          docLink.innerHTML = docLinkHtml;\n",
              "          element.appendChild(docLink);\n",
              "        }\n",
              "      </script>\n",
              "    </div>\n",
              "  </div>\n",
              "  "
            ]
          },
          "metadata": {},
          "execution_count": 7
        }
      ]
    },
    {
      "cell_type": "markdown",
      "source": [
        "As we can see some important features in data like mean age in our data is 24 similarly we can also check mean max and min values of other quantative data"
      ],
      "metadata": {
        "id": "n2v_GUqgJAdr"
      }
    },
    {
      "cell_type": "markdown",
      "source": [
        "**3.3 Converting catogerical values to catogery and rounding of float values to int for further analyis.**\n",
        "\n",
        "Basically its a good practice as it makes our task easier\n",
        "\n",
        "\n",
        "\n"
      ],
      "metadata": {
        "id": "1rjQSk92FUvg"
      }
    },
    {
      "cell_type": "markdown",
      "source": [
        "In many  Data Science activities, the data set might contain text or categorical values (basically non-numerical values) **examples here are:- Gender,Is the person smoker or not?**\n",
        "\n",
        "So we can easily train our model on the above catogerical data but wait there is a catch how would our model diffrentitae between the catogerical data for example how would model understand the difrrence between M and F category Well thats the difficult part here! Which makes our model difficult to train but honestly speaking its not that difficult and you will soon learn it as one thing you would notice that most of the algorithms work better with numerical inputs. Therefore, the main challenge faced by an analyst is to convert text/categorical data into numerical data and still make an algorithm/model to make sense out of it."
      ],
      "metadata": {
        "id": "gopb2z_MFMI0"
      }
    },
    {
      "cell_type": "markdown",
      "source": [
        "There are many ways to convert categorical values into numerical values. Hereby, I would focus on 2 main methods: One-Hot-Encoding and Label-Encoder\n",
        "\n",
        "**Label Encoding**\n",
        "This approach is very simple and it involves converting each value in a column to a number.\n",
        "Example:- Male as 0 and Female as 1\n",
        "Though label encoding is straight but it has the disadvantage that the numeric values can be misinterpreted by algorithms as having some sort of hierarchyorder in them. This ordering issue is addressed in another common alternative approach called ‘One-Hot Encoding’\n",
        "\n",
        "**One-Hot Encoder**\n",
        ".\n",
        "Here Data is encoded as using combination of diffrent 0 and 1 where each combination is used to refer to specific category this methood help us to eliminate the issue which arises due to ordering of the features while using the Label Encoding"
      ],
      "metadata": {
        "id": "fFPwB7aoGHc3"
      }
    },
    {
      "cell_type": "code",
      "source": [
        "columns = [\"Gender\", \"family_history_with_overweight\", \"FAVC\", \"CAEC\", \"SMOKE\", \"SCC\", \"CALC\", \"MTRANS\", \"NObeyesdad\"]\n",
        "for col in columns:\n",
        "    data[col] = data[col].astype('category')\n"
      ],
      "metadata": {
        "id": "jg7FBvsd-fcz"
      },
      "execution_count": null,
      "outputs": []
    },
    {
      "cell_type": "code",
      "source": [
        "columns = [\"FCVC\", \"NCP\", \"CH2O\", \"TUE\", \"FAF\"]\n",
        "for col in columns:\n",
        "    data[col] = round(data[col]).astype('int')  #converting float values to int"
      ],
      "metadata": {
        "id": "QpWsTbo4ATjU"
      },
      "execution_count": null,
      "outputs": []
    },
    {
      "cell_type": "code",
      "source": [
        "data.head()"
      ],
      "metadata": {
        "colab": {
          "base_uri": "https://localhost:8080/",
          "height": 270
        },
        "id": "pn9hwFFVgUPq",
        "outputId": "da0de17a-a825-4834-f854-d2bbd0ba661f"
      },
      "execution_count": null,
      "outputs": [
        {
          "output_type": "execute_result",
          "data": {
            "text/plain": [
              "   Gender   Age  Height  Weight family_history_with_overweight FAVC  FCVC  \\\n",
              "0  Female  21.0    1.62    64.0                            yes   no     2   \n",
              "1  Female  21.0    1.52    56.0                            yes   no     3   \n",
              "2    Male  23.0    1.80    77.0                            yes   no     2   \n",
              "3    Male  27.0    1.80    87.0                             no   no     3   \n",
              "4    Male  22.0    1.78    89.8                             no   no     2   \n",
              "\n",
              "   NCP       CAEC SMOKE  CH2O  SCC  FAF  TUE        CALC  \\\n",
              "0    3  Sometimes    no     2   no    0    1          no   \n",
              "1    3  Sometimes   yes     3  yes    3    0   Sometimes   \n",
              "2    3  Sometimes    no     2   no    2    1  Frequently   \n",
              "3    3  Sometimes    no     2   no    2    0  Frequently   \n",
              "4    1  Sometimes    no     2   no    0    0   Sometimes   \n",
              "\n",
              "                  MTRANS           NObeyesdad  \n",
              "0  Public_Transportation        Normal_Weight  \n",
              "1  Public_Transportation        Normal_Weight  \n",
              "2  Public_Transportation        Normal_Weight  \n",
              "3                Walking   Overweight_Level_I  \n",
              "4  Public_Transportation  Overweight_Level_II  "
            ],
            "text/html": [
              "\n",
              "  <div id=\"df-d3bd2180-589f-4e85-8434-6d4f4a5957f3\">\n",
              "    <div class=\"colab-df-container\">\n",
              "      <div>\n",
              "<style scoped>\n",
              "    .dataframe tbody tr th:only-of-type {\n",
              "        vertical-align: middle;\n",
              "    }\n",
              "\n",
              "    .dataframe tbody tr th {\n",
              "        vertical-align: top;\n",
              "    }\n",
              "\n",
              "    .dataframe thead th {\n",
              "        text-align: right;\n",
              "    }\n",
              "</style>\n",
              "<table border=\"1\" class=\"dataframe\">\n",
              "  <thead>\n",
              "    <tr style=\"text-align: right;\">\n",
              "      <th></th>\n",
              "      <th>Gender</th>\n",
              "      <th>Age</th>\n",
              "      <th>Height</th>\n",
              "      <th>Weight</th>\n",
              "      <th>family_history_with_overweight</th>\n",
              "      <th>FAVC</th>\n",
              "      <th>FCVC</th>\n",
              "      <th>NCP</th>\n",
              "      <th>CAEC</th>\n",
              "      <th>SMOKE</th>\n",
              "      <th>CH2O</th>\n",
              "      <th>SCC</th>\n",
              "      <th>FAF</th>\n",
              "      <th>TUE</th>\n",
              "      <th>CALC</th>\n",
              "      <th>MTRANS</th>\n",
              "      <th>NObeyesdad</th>\n",
              "    </tr>\n",
              "  </thead>\n",
              "  <tbody>\n",
              "    <tr>\n",
              "      <th>0</th>\n",
              "      <td>Female</td>\n",
              "      <td>21.0</td>\n",
              "      <td>1.62</td>\n",
              "      <td>64.0</td>\n",
              "      <td>yes</td>\n",
              "      <td>no</td>\n",
              "      <td>2</td>\n",
              "      <td>3</td>\n",
              "      <td>Sometimes</td>\n",
              "      <td>no</td>\n",
              "      <td>2</td>\n",
              "      <td>no</td>\n",
              "      <td>0</td>\n",
              "      <td>1</td>\n",
              "      <td>no</td>\n",
              "      <td>Public_Transportation</td>\n",
              "      <td>Normal_Weight</td>\n",
              "    </tr>\n",
              "    <tr>\n",
              "      <th>1</th>\n",
              "      <td>Female</td>\n",
              "      <td>21.0</td>\n",
              "      <td>1.52</td>\n",
              "      <td>56.0</td>\n",
              "      <td>yes</td>\n",
              "      <td>no</td>\n",
              "      <td>3</td>\n",
              "      <td>3</td>\n",
              "      <td>Sometimes</td>\n",
              "      <td>yes</td>\n",
              "      <td>3</td>\n",
              "      <td>yes</td>\n",
              "      <td>3</td>\n",
              "      <td>0</td>\n",
              "      <td>Sometimes</td>\n",
              "      <td>Public_Transportation</td>\n",
              "      <td>Normal_Weight</td>\n",
              "    </tr>\n",
              "    <tr>\n",
              "      <th>2</th>\n",
              "      <td>Male</td>\n",
              "      <td>23.0</td>\n",
              "      <td>1.80</td>\n",
              "      <td>77.0</td>\n",
              "      <td>yes</td>\n",
              "      <td>no</td>\n",
              "      <td>2</td>\n",
              "      <td>3</td>\n",
              "      <td>Sometimes</td>\n",
              "      <td>no</td>\n",
              "      <td>2</td>\n",
              "      <td>no</td>\n",
              "      <td>2</td>\n",
              "      <td>1</td>\n",
              "      <td>Frequently</td>\n",
              "      <td>Public_Transportation</td>\n",
              "      <td>Normal_Weight</td>\n",
              "    </tr>\n",
              "    <tr>\n",
              "      <th>3</th>\n",
              "      <td>Male</td>\n",
              "      <td>27.0</td>\n",
              "      <td>1.80</td>\n",
              "      <td>87.0</td>\n",
              "      <td>no</td>\n",
              "      <td>no</td>\n",
              "      <td>3</td>\n",
              "      <td>3</td>\n",
              "      <td>Sometimes</td>\n",
              "      <td>no</td>\n",
              "      <td>2</td>\n",
              "      <td>no</td>\n",
              "      <td>2</td>\n",
              "      <td>0</td>\n",
              "      <td>Frequently</td>\n",
              "      <td>Walking</td>\n",
              "      <td>Overweight_Level_I</td>\n",
              "    </tr>\n",
              "    <tr>\n",
              "      <th>4</th>\n",
              "      <td>Male</td>\n",
              "      <td>22.0</td>\n",
              "      <td>1.78</td>\n",
              "      <td>89.8</td>\n",
              "      <td>no</td>\n",
              "      <td>no</td>\n",
              "      <td>2</td>\n",
              "      <td>1</td>\n",
              "      <td>Sometimes</td>\n",
              "      <td>no</td>\n",
              "      <td>2</td>\n",
              "      <td>no</td>\n",
              "      <td>0</td>\n",
              "      <td>0</td>\n",
              "      <td>Sometimes</td>\n",
              "      <td>Public_Transportation</td>\n",
              "      <td>Overweight_Level_II</td>\n",
              "    </tr>\n",
              "  </tbody>\n",
              "</table>\n",
              "</div>\n",
              "      <button class=\"colab-df-convert\" onclick=\"convertToInteractive('df-d3bd2180-589f-4e85-8434-6d4f4a5957f3')\"\n",
              "              title=\"Convert this dataframe to an interactive table.\"\n",
              "              style=\"display:none;\">\n",
              "        \n",
              "  <svg xmlns=\"http://www.w3.org/2000/svg\" height=\"24px\"viewBox=\"0 0 24 24\"\n",
              "       width=\"24px\">\n",
              "    <path d=\"M0 0h24v24H0V0z\" fill=\"none\"/>\n",
              "    <path d=\"M18.56 5.44l.94 2.06.94-2.06 2.06-.94-2.06-.94-.94-2.06-.94 2.06-2.06.94zm-11 1L8.5 8.5l.94-2.06 2.06-.94-2.06-.94L8.5 2.5l-.94 2.06-2.06.94zm10 10l.94 2.06.94-2.06 2.06-.94-2.06-.94-.94-2.06-.94 2.06-2.06.94z\"/><path d=\"M17.41 7.96l-1.37-1.37c-.4-.4-.92-.59-1.43-.59-.52 0-1.04.2-1.43.59L10.3 9.45l-7.72 7.72c-.78.78-.78 2.05 0 2.83L4 21.41c.39.39.9.59 1.41.59.51 0 1.02-.2 1.41-.59l7.78-7.78 2.81-2.81c.8-.78.8-2.07 0-2.86zM5.41 20L4 18.59l7.72-7.72 1.47 1.35L5.41 20z\"/>\n",
              "  </svg>\n",
              "      </button>\n",
              "      \n",
              "  <style>\n",
              "    .colab-df-container {\n",
              "      display:flex;\n",
              "      flex-wrap:wrap;\n",
              "      gap: 12px;\n",
              "    }\n",
              "\n",
              "    .colab-df-convert {\n",
              "      background-color: #E8F0FE;\n",
              "      border: none;\n",
              "      border-radius: 50%;\n",
              "      cursor: pointer;\n",
              "      display: none;\n",
              "      fill: #1967D2;\n",
              "      height: 32px;\n",
              "      padding: 0 0 0 0;\n",
              "      width: 32px;\n",
              "    }\n",
              "\n",
              "    .colab-df-convert:hover {\n",
              "      background-color: #E2EBFA;\n",
              "      box-shadow: 0px 1px 2px rgba(60, 64, 67, 0.3), 0px 1px 3px 1px rgba(60, 64, 67, 0.15);\n",
              "      fill: #174EA6;\n",
              "    }\n",
              "\n",
              "    [theme=dark] .colab-df-convert {\n",
              "      background-color: #3B4455;\n",
              "      fill: #D2E3FC;\n",
              "    }\n",
              "\n",
              "    [theme=dark] .colab-df-convert:hover {\n",
              "      background-color: #434B5C;\n",
              "      box-shadow: 0px 1px 3px 1px rgba(0, 0, 0, 0.15);\n",
              "      filter: drop-shadow(0px 1px 2px rgba(0, 0, 0, 0.3));\n",
              "      fill: #FFFFFF;\n",
              "    }\n",
              "  </style>\n",
              "\n",
              "      <script>\n",
              "        const buttonEl =\n",
              "          document.querySelector('#df-d3bd2180-589f-4e85-8434-6d4f4a5957f3 button.colab-df-convert');\n",
              "        buttonEl.style.display =\n",
              "          google.colab.kernel.accessAllowed ? 'block' : 'none';\n",
              "\n",
              "        async function convertToInteractive(key) {\n",
              "          const element = document.querySelector('#df-d3bd2180-589f-4e85-8434-6d4f4a5957f3');\n",
              "          const dataTable =\n",
              "            await google.colab.kernel.invokeFunction('convertToInteractive',\n",
              "                                                     [key], {});\n",
              "          if (!dataTable) return;\n",
              "\n",
              "          const docLinkHtml = 'Like what you see? Visit the ' +\n",
              "            '<a target=\"_blank\" href=https://colab.research.google.com/notebooks/data_table.ipynb>data table notebook</a>'\n",
              "            + ' to learn more about interactive tables.';\n",
              "          element.innerHTML = '';\n",
              "          dataTable['output_type'] = 'display_data';\n",
              "          await google.colab.output.renderOutput(dataTable, element);\n",
              "          const docLink = document.createElement('div');\n",
              "          docLink.innerHTML = docLinkHtml;\n",
              "          element.appendChild(docLink);\n",
              "        }\n",
              "      </script>\n",
              "    </div>\n",
              "  </div>\n",
              "  "
            ]
          },
          "metadata": {},
          "execution_count": 11
        }
      ]
    },
    {
      "cell_type": "code",
      "source": [
        "obesity_dummies = pd.get_dummies(data[[\"Gender\", \"family_history_with_overweight\", \"FAVC\", \"CAEC\", \"SMOKE\", \"SCC\", \"CALC\", \"MTRANS\"]])"
      ],
      "metadata": {
        "id": "pjiT6CKfiHza"
      },
      "execution_count": null,
      "outputs": []
    },
    {
      "cell_type": "markdown",
      "source": [
        "Get dummies function is used to obtain label encoder for the catogeries of our pandas dataframe"
      ],
      "metadata": {
        "id": "h11LYfnijj3S"
      }
    },
    {
      "cell_type": "code",
      "source": [
        "obesity_lab = data[[\"NObeyesdad\"]]  #sepearing the dependent variable as we would need it later \n"
      ],
      "metadata": {
        "id": "tNc8VDX6iLxf"
      },
      "execution_count": null,
      "outputs": []
    },
    {
      "cell_type": "code",
      "source": [
        "data.describe() #checking the min,max ,mean of all the values"
      ],
      "metadata": {
        "colab": {
          "base_uri": "https://localhost:8080/",
          "height": 300
        },
        "id": "Z4-nW3SOAHWp",
        "outputId": "c85dd492-ca90-42a4-c278-c29855d86796"
      },
      "execution_count": null,
      "outputs": [
        {
          "output_type": "execute_result",
          "data": {
            "text/plain": [
              "               Age       Height       Weight         FCVC          NCP  \\\n",
              "count  2111.000000  2111.000000  2111.000000  2111.000000  2111.000000   \n",
              "mean     24.312600     1.701677    86.586058     2.423496     2.687826   \n",
              "std       6.345968     0.093305    26.191172     0.583905     0.809680   \n",
              "min      14.000000     1.450000    39.000000     1.000000     1.000000   \n",
              "25%      19.947192     1.630000    65.473343     2.000000     3.000000   \n",
              "50%      22.777890     1.700499    83.000000     2.000000     3.000000   \n",
              "75%      26.000000     1.768464   107.430682     3.000000     3.000000   \n",
              "max      61.000000     1.980000   173.000000     3.000000     4.000000   \n",
              "\n",
              "              CH2O          FAF          TUE  \n",
              "count  2111.000000  2111.000000  2111.000000  \n",
              "mean      2.014685     1.006632     0.664614  \n",
              "std       0.688616     0.895462     0.674009  \n",
              "min       1.000000     0.000000     0.000000  \n",
              "25%       2.000000     0.000000     0.000000  \n",
              "50%       2.000000     1.000000     1.000000  \n",
              "75%       2.000000     2.000000     1.000000  \n",
              "max       3.000000     3.000000     2.000000  "
            ],
            "text/html": [
              "\n",
              "  <div id=\"df-611e0654-b06f-467e-b89c-7147485c8391\">\n",
              "    <div class=\"colab-df-container\">\n",
              "      <div>\n",
              "<style scoped>\n",
              "    .dataframe tbody tr th:only-of-type {\n",
              "        vertical-align: middle;\n",
              "    }\n",
              "\n",
              "    .dataframe tbody tr th {\n",
              "        vertical-align: top;\n",
              "    }\n",
              "\n",
              "    .dataframe thead th {\n",
              "        text-align: right;\n",
              "    }\n",
              "</style>\n",
              "<table border=\"1\" class=\"dataframe\">\n",
              "  <thead>\n",
              "    <tr style=\"text-align: right;\">\n",
              "      <th></th>\n",
              "      <th>Age</th>\n",
              "      <th>Height</th>\n",
              "      <th>Weight</th>\n",
              "      <th>FCVC</th>\n",
              "      <th>NCP</th>\n",
              "      <th>CH2O</th>\n",
              "      <th>FAF</th>\n",
              "      <th>TUE</th>\n",
              "    </tr>\n",
              "  </thead>\n",
              "  <tbody>\n",
              "    <tr>\n",
              "      <th>count</th>\n",
              "      <td>2111.000000</td>\n",
              "      <td>2111.000000</td>\n",
              "      <td>2111.000000</td>\n",
              "      <td>2111.000000</td>\n",
              "      <td>2111.000000</td>\n",
              "      <td>2111.000000</td>\n",
              "      <td>2111.000000</td>\n",
              "      <td>2111.000000</td>\n",
              "    </tr>\n",
              "    <tr>\n",
              "      <th>mean</th>\n",
              "      <td>24.312600</td>\n",
              "      <td>1.701677</td>\n",
              "      <td>86.586058</td>\n",
              "      <td>2.423496</td>\n",
              "      <td>2.687826</td>\n",
              "      <td>2.014685</td>\n",
              "      <td>1.006632</td>\n",
              "      <td>0.664614</td>\n",
              "    </tr>\n",
              "    <tr>\n",
              "      <th>std</th>\n",
              "      <td>6.345968</td>\n",
              "      <td>0.093305</td>\n",
              "      <td>26.191172</td>\n",
              "      <td>0.583905</td>\n",
              "      <td>0.809680</td>\n",
              "      <td>0.688616</td>\n",
              "      <td>0.895462</td>\n",
              "      <td>0.674009</td>\n",
              "    </tr>\n",
              "    <tr>\n",
              "      <th>min</th>\n",
              "      <td>14.000000</td>\n",
              "      <td>1.450000</td>\n",
              "      <td>39.000000</td>\n",
              "      <td>1.000000</td>\n",
              "      <td>1.000000</td>\n",
              "      <td>1.000000</td>\n",
              "      <td>0.000000</td>\n",
              "      <td>0.000000</td>\n",
              "    </tr>\n",
              "    <tr>\n",
              "      <th>25%</th>\n",
              "      <td>19.947192</td>\n",
              "      <td>1.630000</td>\n",
              "      <td>65.473343</td>\n",
              "      <td>2.000000</td>\n",
              "      <td>3.000000</td>\n",
              "      <td>2.000000</td>\n",
              "      <td>0.000000</td>\n",
              "      <td>0.000000</td>\n",
              "    </tr>\n",
              "    <tr>\n",
              "      <th>50%</th>\n",
              "      <td>22.777890</td>\n",
              "      <td>1.700499</td>\n",
              "      <td>83.000000</td>\n",
              "      <td>2.000000</td>\n",
              "      <td>3.000000</td>\n",
              "      <td>2.000000</td>\n",
              "      <td>1.000000</td>\n",
              "      <td>1.000000</td>\n",
              "    </tr>\n",
              "    <tr>\n",
              "      <th>75%</th>\n",
              "      <td>26.000000</td>\n",
              "      <td>1.768464</td>\n",
              "      <td>107.430682</td>\n",
              "      <td>3.000000</td>\n",
              "      <td>3.000000</td>\n",
              "      <td>2.000000</td>\n",
              "      <td>2.000000</td>\n",
              "      <td>1.000000</td>\n",
              "    </tr>\n",
              "    <tr>\n",
              "      <th>max</th>\n",
              "      <td>61.000000</td>\n",
              "      <td>1.980000</td>\n",
              "      <td>173.000000</td>\n",
              "      <td>3.000000</td>\n",
              "      <td>4.000000</td>\n",
              "      <td>3.000000</td>\n",
              "      <td>3.000000</td>\n",
              "      <td>2.000000</td>\n",
              "    </tr>\n",
              "  </tbody>\n",
              "</table>\n",
              "</div>\n",
              "      <button class=\"colab-df-convert\" onclick=\"convertToInteractive('df-611e0654-b06f-467e-b89c-7147485c8391')\"\n",
              "              title=\"Convert this dataframe to an interactive table.\"\n",
              "              style=\"display:none;\">\n",
              "        \n",
              "  <svg xmlns=\"http://www.w3.org/2000/svg\" height=\"24px\"viewBox=\"0 0 24 24\"\n",
              "       width=\"24px\">\n",
              "    <path d=\"M0 0h24v24H0V0z\" fill=\"none\"/>\n",
              "    <path d=\"M18.56 5.44l.94 2.06.94-2.06 2.06-.94-2.06-.94-.94-2.06-.94 2.06-2.06.94zm-11 1L8.5 8.5l.94-2.06 2.06-.94-2.06-.94L8.5 2.5l-.94 2.06-2.06.94zm10 10l.94 2.06.94-2.06 2.06-.94-2.06-.94-.94-2.06-.94 2.06-2.06.94z\"/><path d=\"M17.41 7.96l-1.37-1.37c-.4-.4-.92-.59-1.43-.59-.52 0-1.04.2-1.43.59L10.3 9.45l-7.72 7.72c-.78.78-.78 2.05 0 2.83L4 21.41c.39.39.9.59 1.41.59.51 0 1.02-.2 1.41-.59l7.78-7.78 2.81-2.81c.8-.78.8-2.07 0-2.86zM5.41 20L4 18.59l7.72-7.72 1.47 1.35L5.41 20z\"/>\n",
              "  </svg>\n",
              "      </button>\n",
              "      \n",
              "  <style>\n",
              "    .colab-df-container {\n",
              "      display:flex;\n",
              "      flex-wrap:wrap;\n",
              "      gap: 12px;\n",
              "    }\n",
              "\n",
              "    .colab-df-convert {\n",
              "      background-color: #E8F0FE;\n",
              "      border: none;\n",
              "      border-radius: 50%;\n",
              "      cursor: pointer;\n",
              "      display: none;\n",
              "      fill: #1967D2;\n",
              "      height: 32px;\n",
              "      padding: 0 0 0 0;\n",
              "      width: 32px;\n",
              "    }\n",
              "\n",
              "    .colab-df-convert:hover {\n",
              "      background-color: #E2EBFA;\n",
              "      box-shadow: 0px 1px 2px rgba(60, 64, 67, 0.3), 0px 1px 3px 1px rgba(60, 64, 67, 0.15);\n",
              "      fill: #174EA6;\n",
              "    }\n",
              "\n",
              "    [theme=dark] .colab-df-convert {\n",
              "      background-color: #3B4455;\n",
              "      fill: #D2E3FC;\n",
              "    }\n",
              "\n",
              "    [theme=dark] .colab-df-convert:hover {\n",
              "      background-color: #434B5C;\n",
              "      box-shadow: 0px 1px 3px 1px rgba(0, 0, 0, 0.15);\n",
              "      filter: drop-shadow(0px 1px 2px rgba(0, 0, 0, 0.3));\n",
              "      fill: #FFFFFF;\n",
              "    }\n",
              "  </style>\n",
              "\n",
              "      <script>\n",
              "        const buttonEl =\n",
              "          document.querySelector('#df-611e0654-b06f-467e-b89c-7147485c8391 button.colab-df-convert');\n",
              "        buttonEl.style.display =\n",
              "          google.colab.kernel.accessAllowed ? 'block' : 'none';\n",
              "\n",
              "        async function convertToInteractive(key) {\n",
              "          const element = document.querySelector('#df-611e0654-b06f-467e-b89c-7147485c8391');\n",
              "          const dataTable =\n",
              "            await google.colab.kernel.invokeFunction('convertToInteractive',\n",
              "                                                     [key], {});\n",
              "          if (!dataTable) return;\n",
              "\n",
              "          const docLinkHtml = 'Like what you see? Visit the ' +\n",
              "            '<a target=\"_blank\" href=https://colab.research.google.com/notebooks/data_table.ipynb>data table notebook</a>'\n",
              "            + ' to learn more about interactive tables.';\n",
              "          element.innerHTML = '';\n",
              "          dataTable['output_type'] = 'display_data';\n",
              "          await google.colab.output.renderOutput(dataTable, element);\n",
              "          const docLink = document.createElement('div');\n",
              "          docLink.innerHTML = docLinkHtml;\n",
              "          element.appendChild(docLink);\n",
              "        }\n",
              "      </script>\n",
              "    </div>\n",
              "  </div>\n",
              "  "
            ]
          },
          "metadata": {},
          "execution_count": 15
        }
      ]
    },
    {
      "cell_type": "code",
      "source": [
        "data.info()"
      ],
      "metadata": {
        "colab": {
          "base_uri": "https://localhost:8080/"
        },
        "id": "lsHvLJm1AK-j",
        "outputId": "8f3fc9f1-283b-4f9b-813c-5b4b5608383b"
      },
      "execution_count": null,
      "outputs": [
        {
          "output_type": "stream",
          "name": "stdout",
          "text": [
            "<class 'pandas.core.frame.DataFrame'>\n",
            "RangeIndex: 2111 entries, 0 to 2110\n",
            "Data columns (total 17 columns):\n",
            " #   Column                          Non-Null Count  Dtype   \n",
            "---  ------                          --------------  -----   \n",
            " 0   Gender                          2111 non-null   category\n",
            " 1   Age                             2111 non-null   float64 \n",
            " 2   Height                          2111 non-null   float64 \n",
            " 3   Weight                          2111 non-null   float64 \n",
            " 4   family_history_with_overweight  2111 non-null   category\n",
            " 5   FAVC                            2111 non-null   category\n",
            " 6   FCVC                            2111 non-null   int64   \n",
            " 7   NCP                             2111 non-null   int64   \n",
            " 8   CAEC                            2111 non-null   category\n",
            " 9   SMOKE                           2111 non-null   category\n",
            " 10  CH2O                            2111 non-null   int64   \n",
            " 11  SCC                             2111 non-null   category\n",
            " 12  FAF                             2111 non-null   int64   \n",
            " 13  TUE                             2111 non-null   int64   \n",
            " 14  CALC                            2111 non-null   category\n",
            " 15  MTRANS                          2111 non-null   category\n",
            " 16  NObeyesdad                      2111 non-null   category\n",
            "dtypes: category(9), float64(3), int64(5)\n",
            "memory usage: 152.2 KB\n"
          ]
        }
      ]
    },
    {
      "cell_type": "markdown",
      "source": [
        "As it can be seen above the data type of catogerical variable has been changed from before and respecive float values are also replaced with int"
      ],
      "metadata": {
        "id": "G3YGD6EMNu61"
      }
    },
    {
      "cell_type": "markdown",
      "source": [
        "**3.4 Plotting the graphs**\n",
        "\n",
        "Here using seaborn we would count plot diffrent variables to understand their behaviour and distribution"
      ],
      "metadata": {
        "id": "G3h3twXLN-rz"
      }
    },
    {
      "cell_type": "code",
      "source": [
        "# columns of interest\n",
        "columns = ['Gender', 'family_history_with_overweight', 'FAVC', 'CAEC', 'SMOKE',\n",
        "           'SCC', 'CALC', 'MTRANS', 'NObeyesdad']\n",
        "\n",
        "fig, ax = plt.subplots(3, 3, figsize=(15, 10))\n",
        "for col, subplot in zip(columns, ax.flatten()):\n",
        "    sns.countplot(data[col], ax=subplot)\n",
        "    \n",
        "    if col==\"MTRANS\":\n",
        "        sns.countplot(data[col],ax=subplot)\n",
        "        subplot.set_xticklabels(rotation=45, horizontalalignment='right', labels=data.MTRANS)        \n",
        "        subplot.yaxis.label.set_text(\"Number of Records\")\n",
        "    elif col==\"NObeyesdad\":\n",
        "        sns.countplot(data[col],ax=subplot)\n",
        "        subplot.set_xticklabels(rotation=45, horizontalalignment='right', labels=data.NObeyesdad)  \n",
        "        subplot.yaxis.label.set_text(\"Number of Records\")\n",
        "    else:\n",
        "        sns.countplot(data[col],ax=subplot)  \n",
        "        subplot.yaxis.label.set_text(\"Number of Records\")\n",
        "        \n",
        "# show figure & plots\n",
        "fig.suptitle(\"Categorical Variables\", fontsize=20)\n",
        "plt.tight_layout(pad=5, w_pad=0.0, h_pad=1)\n",
        "plt.show()"
      ],
      "metadata": {
        "colab": {
          "base_uri": "https://localhost:8080/",
          "height": 741
        },
        "id": "cp97Rq3PArII",
        "outputId": "c7db644d-3118-43b4-f76b-e0e7e1070140"
      },
      "execution_count": null,
      "outputs": [
        {
          "output_type": "stream",
          "name": "stderr",
          "text": [
            "/usr/local/lib/python3.7/dist-packages/seaborn/_decorators.py:43: FutureWarning: Pass the following variable as a keyword arg: x. From version 0.12, the only valid positional argument will be `data`, and passing other arguments without an explicit keyword will result in an error or misinterpretation.\n",
            "  FutureWarning\n"
          ]
        },
        {
          "output_type": "display_data",
          "data": {
            "text/plain": [
              "<Figure size 1080x720 with 9 Axes>"
            ],
            "image/png": "[encoded data removed]"
          },
          "metadata": {
            "needs_background": "light"
          }
        }
      ]
    },
    {
      "cell_type": "markdown",
      "source": [
        "Catogerical Variable\n",
        "\n",
        "**The categorical variables are not gaussian**\n",
        "Most of the **categorical variables are bernoulli** in nature but what is a gaussian distribution and what is diffrence between gaussian distribution and Bernoulli distribution.Lets see\n",
        "I bet You must have flipped a coin once in a while playing or betting so how cool it would  if you can guess the outcome in advance well its quite possible not completely  but partially\n",
        "\n",
        "![download (1).jpg](data:image/jpeg;base64,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)\n",
        "\n",
        "\n",
        "A Bernoulli distribution is a discrete distribution with only two possible values for the random variable. The distribution has only two possible outcomes and a single trial which is called a Bernoulli trial. The two possible outcomes in Bernoulli distribution are labeled by n=0 and n=1 in which n=1 (success) occurs with probability p and n=0 (failure) occurs with probability 1-p, and since it is a probability value so 0<=p<=1 so consider tossing a coin it can be heads(sucess) with probaility 1/2 or tail(failure) with probability(1/2)\n",
        "and if we plot the graph for it for many trials combined we get a distribution\n",
        "like mentioned below\n",
        "\n",
        "\n",
        "\n"
      ],
      "metadata": {
        "id": "jW6rhyTGFo2v"
      }
    },
    {
      "cell_type": "markdown",
      "source": [
        "\n",
        "The probability mass function (PMF) of a Bernoulli distribution is defined as:\n",
        "If an experiment has only two possible outcomes, “success” and “failure,” and if p is the probability of success, thenP(n)=p^n(1-p)^(1-n). \n",
        "\n",
        "![rrr.png](data:image/png;base64,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)\n",
        "\n",
        "\n"
      ],
      "metadata": {
        "id": "qUhKRR3XWvNY"
      }
    },
    {
      "cell_type": "markdown",
      "source": [
        "**Use Case of This distribution**\n",
        "\n",
        "Think about a hospital emergency station.You are a hospital manager and you want to organize the staff numbers correctly for different weekdays. You know total number of patients came in to a emergency station because of alcohol poisoning in a given time period. You can analyse the distribution of patient numbers for each day of the week. Most likely you will have more such cases in the weekends and you need larger staff.\n",
        "\n",
        "This will be also true for other businesses. They can use binomial distributions to calculate changes in demand and plan accordingly."
      ],
      "metadata": {
        "id": "HV6rqv41Y8Ee"
      }
    },
    {
      "cell_type": "code",
      "source": [
        "# columns of interest\n",
        "columns = [\"FCVC\", \"NCP\", \"CH2O\", \"FAF\", \"TUE\"]\n",
        "\n",
        "fig, ax = plt.subplots(1, 5, figsize=(15, 4))\n",
        "for col, subplot in zip(columns, ax.flatten()):\n",
        "    sns.countplot(data[col], ax=subplot)\n",
        "    subplot.yaxis.label.set_text(\"Number of Records\")\n",
        "\n",
        "# show figure & plots\n",
        "fig.suptitle(\"Ordinal Variables\", fontsize=20)\n",
        "plt.tight_layout(pad=5, w_pad=0.7, h_pad=0.5)\n",
        "plt.show()"
      ],
      "metadata": {
        "colab": {
          "base_uri": "https://localhost:8080/",
          "height": 457
        },
        "id": "ex6Q-q6kBlCX",
        "outputId": "743de0fd-9a37-45d3-ea42-1f9b32fa0eb7"
      },
      "execution_count": null,
      "outputs": [
        {
          "output_type": "stream",
          "name": "stderr",
          "text": [
            "/usr/local/lib/python3.7/dist-packages/seaborn/_decorators.py:43: FutureWarning: Pass the following variable as a keyword arg: x. From version 0.12, the only valid positional argument will be `data`, and passing other arguments without an explicit keyword will result in an error or misinterpretation.\n",
            "  FutureWarning\n",
            "/usr/local/lib/python3.7/dist-packages/seaborn/_decorators.py:43: FutureWarning: Pass the following variable as a keyword arg: x. From version 0.12, the only valid positional argument will be `data`, and passing other arguments without an explicit keyword will result in an error or misinterpretation.\n",
            "  FutureWarning\n",
            "/usr/local/lib/python3.7/dist-packages/seaborn/_decorators.py:43: FutureWarning: Pass the following variable as a keyword arg: x. From version 0.12, the only valid positional argument will be `data`, and passing other arguments without an explicit keyword will result in an error or misinterpretation.\n",
            "  FutureWarning\n",
            "/usr/local/lib/python3.7/dist-packages/seaborn/_decorators.py:43: FutureWarning: Pass the following variable as a keyword arg: x. From version 0.12, the only valid positional argument will be `data`, and passing other arguments without an explicit keyword will result in an error or misinterpretation.\n",
            "  FutureWarning\n",
            "/usr/local/lib/python3.7/dist-packages/seaborn/_decorators.py:43: FutureWarning: Pass the following variable as a keyword arg: x. From version 0.12, the only valid positional argument will be `data`, and passing other arguments without an explicit keyword will result in an error or misinterpretation.\n",
            "  FutureWarning\n"
          ]
        },
        {
          "output_type": "display_data",
          "data": {
            "text/plain": [
              "<Figure size 1080x288 with 5 Axes>"
            ],
            "image/png": "[encoded data removed]"
          },
          "metadata": {
            "needs_background": "light"
          }
        }
      ]
    },
    {
      "cell_type": "markdown",
      "source": [
        "**Ordinal values**\n",
        "\n",
        "None of them are Gaussian distributed\n",
        "\n"
      ],
      "metadata": {
        "id": "9el1SXoVFwz3"
      }
    },
    {
      "cell_type": "code",
      "source": [
        "obesity_numeric = data[[\"Age\", \"Height\", \"Weight\", \"FCVC\", \"NCP\", \"CH2O\", \"FAF\", \"TUE\"]]    #Extracring the numeric variables in seperate column\n"
      ],
      "metadata": {
        "id": "fTvsw9xhiubo"
      },
      "execution_count": null,
      "outputs": []
    },
    {
      "cell_type": "code",
      "source": [
        "obesity_concatenated = pd.concat([obesity_numeric, obesity_dummies, obesity_lab], axis = 1)   #concating the numerical variables and encoded dummy variables using the concat functiom\n"
      ],
      "metadata": {
        "id": "VZij0P0Wig1B"
      },
      "execution_count": null,
      "outputs": []
    },
    {
      "cell_type": "code",
      "source": [
        "obesity_concatenated.head()\n"
      ],
      "metadata": {
        "colab": {
          "base_uri": "https://localhost:8080/",
          "height": 299
        },
        "id": "m0j-9VAZi8iq",
        "outputId": "21c31796-92bf-413f-9af6-cca2191b1647"
      },
      "execution_count": null,
      "outputs": [
        {
          "output_type": "execute_result",
          "data": {
            "text/plain": [
              "    Age  Height  Weight  FCVC  NCP  CH2O  FAF  TUE  Gender_Female  \\\n",
              "0  21.0    1.62    64.0     2    3     2    0    1              1   \n",
              "1  21.0    1.52    56.0     3    3     3    3    0              1   \n",
              "2  23.0    1.80    77.0     2    3     2    2    1              0   \n",
              "3  27.0    1.80    87.0     3    3     2    2    0              0   \n",
              "4  22.0    1.78    89.8     2    1     2    0    0              0   \n",
              "\n",
              "   Gender_Male  ...  CALC_Always  CALC_Frequently  CALC_Sometimes  CALC_no  \\\n",
              "0            0  ...            0                0               0        1   \n",
              "1            0  ...            0                0               1        0   \n",
              "2            1  ...            0                1               0        0   \n",
              "3            1  ...            0                1               0        0   \n",
              "4            1  ...            0                0               1        0   \n",
              "\n",
              "   MTRANS_Automobile  MTRANS_Bike  MTRANS_Motorbike  \\\n",
              "0                  0            0                 0   \n",
              "1                  0            0                 0   \n",
              "2                  0            0                 0   \n",
              "3                  0            0                 0   \n",
              "4                  0            0                 0   \n",
              "\n",
              "   MTRANS_Public_Transportation  MTRANS_Walking           NObeyesdad  \n",
              "0                             1               0        Normal_Weight  \n",
              "1                             1               0        Normal_Weight  \n",
              "2                             1               0        Normal_Weight  \n",
              "3                             0               1   Overweight_Level_I  \n",
              "4                             1               0  Overweight_Level_II  \n",
              "\n",
              "[5 rows x 32 columns]"
            ],
            "text/html": [
              "\n",
              "  <div id=\"df-22d4dcb1-01e0-4afc-9262-a1e60a9cbd50\">\n",
              "    <div class=\"colab-df-container\">\n",
              "      <div>\n",
              "<style scoped>\n",
              "    .dataframe tbody tr th:only-of-type {\n",
              "        vertical-align: middle;\n",
              "    }\n",
              "\n",
              "    .dataframe tbody tr th {\n",
              "        vertical-align: top;\n",
              "    }\n",
              "\n",
              "    .dataframe thead th {\n",
              "        text-align: right;\n",
              "    }\n",
              "</style>\n",
              "<table border=\"1\" class=\"dataframe\">\n",
              "  <thead>\n",
              "    <tr style=\"text-align: right;\">\n",
              "      <th></th>\n",
              "      <th>Age</th>\n",
              "      <th>Height</th>\n",
              "      <th>Weight</th>\n",
              "      <th>FCVC</th>\n",
              "      <th>NCP</th>\n",
              "      <th>CH2O</th>\n",
              "      <th>FAF</th>\n",
              "      <th>TUE</th>\n",
              "      <th>Gender_Female</th>\n",
              "      <th>Gender_Male</th>\n",
              "      <th>...</th>\n",
              "      <th>CALC_Always</th>\n",
              "      <th>CALC_Frequently</th>\n",
              "      <th>CALC_Sometimes</th>\n",
              "      <th>CALC_no</th>\n",
              "      <th>MTRANS_Automobile</th>\n",
              "      <th>MTRANS_Bike</th>\n",
              "      <th>MTRANS_Motorbike</th>\n",
              "      <th>MTRANS_Public_Transportation</th>\n",
              "      <th>MTRANS_Walking</th>\n",
              "      <th>NObeyesdad</th>\n",
              "    </tr>\n",
              "  </thead>\n",
              "  <tbody>\n",
              "    <tr>\n",
              "      <th>0</th>\n",
              "      <td>21.0</td>\n",
              "      <td>1.62</td>\n",
              "      <td>64.0</td>\n",
              "      <td>2</td>\n",
              "      <td>3</td>\n",
              "      <td>2</td>\n",
              "      <td>0</td>\n",
              "      <td>1</td>\n",
              "      <td>1</td>\n",
              "      <td>0</td>\n",
              "      <td>...</td>\n",
              "      <td>0</td>\n",
              "      <td>0</td>\n",
              "      <td>0</td>\n",
              "      <td>1</td>\n",
              "      <td>0</td>\n",
              "      <td>0</td>\n",
              "      <td>0</td>\n",
              "      <td>1</td>\n",
              "      <td>0</td>\n",
              "      <td>Normal_Weight</td>\n",
              "    </tr>\n",
              "    <tr>\n",
              "      <th>1</th>\n",
              "      <td>21.0</td>\n",
              "      <td>1.52</td>\n",
              "      <td>56.0</td>\n",
              "      <td>3</td>\n",
              "      <td>3</td>\n",
              "      <td>3</td>\n",
              "      <td>3</td>\n",
              "      <td>0</td>\n",
              "      <td>1</td>\n",
              "      <td>0</td>\n",
              "      <td>...</td>\n",
              "      <td>0</td>\n",
              "      <td>0</td>\n",
              "      <td>1</td>\n",
              "      <td>0</td>\n",
              "      <td>0</td>\n",
              "      <td>0</td>\n",
              "      <td>0</td>\n",
              "      <td>1</td>\n",
              "      <td>0</td>\n",
              "      <td>Normal_Weight</td>\n",
              "    </tr>\n",
              "    <tr>\n",
              "      <th>2</th>\n",
              "      <td>23.0</td>\n",
              "      <td>1.80</td>\n",
              "      <td>77.0</td>\n",
              "      <td>2</td>\n",
              "      <td>3</td>\n",
              "      <td>2</td>\n",
              "      <td>2</td>\n",
              "      <td>1</td>\n",
              "      <td>0</td>\n",
              "      <td>1</td>\n",
              "      <td>...</td>\n",
              "      <td>0</td>\n",
              "      <td>1</td>\n",
              "      <td>0</td>\n",
              "      <td>0</td>\n",
              "      <td>0</td>\n",
              "      <td>0</td>\n",
              "      <td>0</td>\n",
              "      <td>1</td>\n",
              "      <td>0</td>\n",
              "      <td>Normal_Weight</td>\n",
              "    </tr>\n",
              "    <tr>\n",
              "      <th>3</th>\n",
              "      <td>27.0</td>\n",
              "      <td>1.80</td>\n",
              "      <td>87.0</td>\n",
              "      <td>3</td>\n",
              "      <td>3</td>\n",
              "      <td>2</td>\n",
              "      <td>2</td>\n",
              "      <td>0</td>\n",
              "      <td>0</td>\n",
              "      <td>1</td>\n",
              "      <td>...</td>\n",
              "      <td>0</td>\n",
              "      <td>1</td>\n",
              "      <td>0</td>\n",
              "      <td>0</td>\n",
              "      <td>0</td>\n",
              "      <td>0</td>\n",
              "      <td>0</td>\n",
              "      <td>0</td>\n",
              "      <td>1</td>\n",
              "      <td>Overweight_Level_I</td>\n",
              "    </tr>\n",
              "    <tr>\n",
              "      <th>4</th>\n",
              "      <td>22.0</td>\n",
              "      <td>1.78</td>\n",
              "      <td>89.8</td>\n",
              "      <td>2</td>\n",
              "      <td>1</td>\n",
              "      <td>2</td>\n",
              "      <td>0</td>\n",
              "      <td>0</td>\n",
              "      <td>0</td>\n",
              "      <td>1</td>\n",
              "      <td>...</td>\n",
              "      <td>0</td>\n",
              "      <td>0</td>\n",
              "      <td>1</td>\n",
              "      <td>0</td>\n",
              "      <td>0</td>\n",
              "      <td>0</td>\n",
              "      <td>0</td>\n",
              "      <td>1</td>\n",
              "      <td>0</td>\n",
              "      <td>Overweight_Level_II</td>\n",
              "    </tr>\n",
              "  </tbody>\n",
              "</table>\n",
              "<p>5 rows × 32 columns</p>\n",
              "</div>\n",
              "      <button class=\"colab-df-convert\" onclick=\"convertToInteractive('df-22d4dcb1-01e0-4afc-9262-a1e60a9cbd50')\"\n",
              "              title=\"Convert this dataframe to an interactive table.\"\n",
              "              style=\"display:none;\">\n",
              "        \n",
              "  <svg xmlns=\"http://www.w3.org/2000/svg\" height=\"24px\"viewBox=\"0 0 24 24\"\n",
              "       width=\"24px\">\n",
              "    <path d=\"M0 0h24v24H0V0z\" fill=\"none\"/>\n",
              "    <path d=\"M18.56 5.44l.94 2.06.94-2.06 2.06-.94-2.06-.94-.94-2.06-.94 2.06-2.06.94zm-11 1L8.5 8.5l.94-2.06 2.06-.94-2.06-.94L8.5 2.5l-.94 2.06-2.06.94zm10 10l.94 2.06.94-2.06 2.06-.94-2.06-.94-.94-2.06-.94 2.06-2.06.94z\"/><path d=\"M17.41 7.96l-1.37-1.37c-.4-.4-.92-.59-1.43-.59-.52 0-1.04.2-1.43.59L10.3 9.45l-7.72 7.72c-.78.78-.78 2.05 0 2.83L4 21.41c.39.39.9.59 1.41.59.51 0 1.02-.2 1.41-.59l7.78-7.78 2.81-2.81c.8-.78.8-2.07 0-2.86zM5.41 20L4 18.59l7.72-7.72 1.47 1.35L5.41 20z\"/>\n",
              "  </svg>\n",
              "      </button>\n",
              "      \n",
              "  <style>\n",
              "    .colab-df-container {\n",
              "      display:flex;\n",
              "      flex-wrap:wrap;\n",
              "      gap: 12px;\n",
              "    }\n",
              "\n",
              "    .colab-df-convert {\n",
              "      background-color: #E8F0FE;\n",
              "      border: none;\n",
              "      border-radius: 50%;\n",
              "      cursor: pointer;\n",
              "      display: none;\n",
              "      fill: #1967D2;\n",
              "      height: 32px;\n",
              "      padding: 0 0 0 0;\n",
              "      width: 32px;\n",
              "    }\n",
              "\n",
              "    .colab-df-convert:hover {\n",
              "      background-color: #E2EBFA;\n",
              "      box-shadow: 0px 1px 2px rgba(60, 64, 67, 0.3), 0px 1px 3px 1px rgba(60, 64, 67, 0.15);\n",
              "      fill: #174EA6;\n",
              "    }\n",
              "\n",
              "    [theme=dark] .colab-df-convert {\n",
              "      background-color: #3B4455;\n",
              "      fill: #D2E3FC;\n",
              "    }\n",
              "\n",
              "    [theme=dark] .colab-df-convert:hover {\n",
              "      background-color: #434B5C;\n",
              "      box-shadow: 0px 1px 3px 1px rgba(0, 0, 0, 0.15);\n",
              "      filter: drop-shadow(0px 1px 2px rgba(0, 0, 0, 0.3));\n",
              "      fill: #FFFFFF;\n",
              "    }\n",
              "  </style>\n",
              "\n",
              "      <script>\n",
              "        const buttonEl =\n",
              "          document.querySelector('#df-22d4dcb1-01e0-4afc-9262-a1e60a9cbd50 button.colab-df-convert');\n",
              "        buttonEl.style.display =\n",
              "          google.colab.kernel.accessAllowed ? 'block' : 'none';\n",
              "\n",
              "        async function convertToInteractive(key) {\n",
              "          const element = document.querySelector('#df-22d4dcb1-01e0-4afc-9262-a1e60a9cbd50');\n",
              "          const dataTable =\n",
              "            await google.colab.kernel.invokeFunction('convertToInteractive',\n",
              "                                                     [key], {});\n",
              "          if (!dataTable) return;\n",
              "\n",
              "          const docLinkHtml = 'Like what you see? Visit the ' +\n",
              "            '<a target=\"_blank\" href=https://colab.research.google.com/notebooks/data_table.ipynb>data table notebook</a>'\n",
              "            + ' to learn more about interactive tables.';\n",
              "          element.innerHTML = '';\n",
              "          dataTable['output_type'] = 'display_data';\n",
              "          await google.colab.output.renderOutput(dataTable, element);\n",
              "          const docLink = document.createElement('div');\n",
              "          docLink.innerHTML = docLinkHtml;\n",
              "          element.appendChild(docLink);\n",
              "        }\n",
              "      </script>\n",
              "    </div>\n",
              "  </div>\n",
              "  "
            ]
          },
          "metadata": {},
          "execution_count": 23
        }
      ]
    },
    {
      "cell_type": "markdown",
      "source": [
        "It can be clearly seen that Gender and other catogerical features are encoded using O and 1 "
      ],
      "metadata": {
        "id": "vVBPp-9BjO_7"
      }
    },
    {
      "cell_type": "markdown",
      "source": [
        "**3.5 Age Height and Weight Distribution`**\n",
        "\n",
        "*It shows that age is not following gaussian distribution its Bernoulli distribution so data is spread in wide range*\n",
        "\n",
        "*`The box plot denotes that age is not normaly distributed and we have many outliers as we can see many points outside the second standard deviation`*"
      ],
      "metadata": {
        "id": "0mefIsrNF2UI"
      }
    },
    {
      "cell_type": "code",
      "source": [
        "data[\"Age\"].median() #This will simply give us the median age in the distribution\n"
      ],
      "metadata": {
        "colab": {
          "base_uri": "https://localhost:8080/"
        },
        "id": "YvdxJy9iq5o-",
        "outputId": "b4fc9b94-6210-48b2-96c3-ee6ee4422755"
      },
      "execution_count": null,
      "outputs": [
        {
          "output_type": "execute_result",
          "data": {
            "text/plain": [
              "22.77789"
            ]
          },
          "metadata": {},
          "execution_count": 37
        }
      ]
    },
    {
      "cell_type": "code",
      "source": [
        "fig = plt.figure(figsize = (16,5))\n",
        "\n",
        "#distplot\n",
        "ax1 = fig.add_subplot(121)\n",
        "sns.distplot(data[\"Age\"], kde=True)\n",
        "\n",
        "#boxplot\n",
        "ax1 = ax1 = fig.add_subplot(122)\n",
        "sns.boxplot(data.Age)\n",
        "\n",
        "# show figure & plots\n",
        "fig.suptitle(\"Distribution of Numeric (Ratio) Variable\", fontsize=20)\n",
        "plt.tight_layout(pad=5, w_pad=0.5, h_pad=.1)\n",
        "plt.show()"
      ],
      "metadata": {
        "colab": {
          "base_uri": "https://localhost:8080/",
          "height": 396
        },
        "id": "PAqZN77gB2rz",
        "outputId": "06995e00-b11c-4185-ef41-79955b9de612"
      },
      "execution_count": null,
      "outputs": [
        {
          "output_type": "stream",
          "name": "stderr",
          "text": [
            "/usr/local/lib/python3.7/dist-packages/seaborn/distributions.py:2619: FutureWarning: `distplot` is a deprecated function and will be removed in a future version. Please adapt your code to use either `displot` (a figure-level function with similar flexibility) or `histplot` (an axes-level function for histograms).\n",
            "  warnings.warn(msg, FutureWarning)\n",
            "/usr/local/lib/python3.7/dist-packages/seaborn/_decorators.py:43: FutureWarning: Pass the following variable as a keyword arg: x. From version 0.12, the only valid positional argument will be `data`, and passing other arguments without an explicit keyword will result in an error or misinterpretation.\n",
            "  FutureWarning\n"
          ]
        },
        {
          "output_type": "display_data",
          "data": {
            "text/plain": [
              "<Figure size 1152x360 with 2 Axes>"
            ],
            "image/png": "[encoded data removed]"
          },
          "metadata": {
            "needs_background": "light"
          }
        }
      ]
    },
    {
      "cell_type": "markdown",
      "source": [
        "We see that age is uniformly distributed in begining of the data but what is the reason behind such unqiue shape of the age distribution as the age increases  and what are the significance of outliers here?\n",
        "\n",
        "Well as we can see that maximum density of age is around 20 -30 years of age this is the range where most of the people suffer with obesity in the given dataset "
      ],
      "metadata": {
        "id": "Kl_hDFW0pbZD"
      }
    },
    {
      "cell_type": "markdown",
      "source": [
        "Obesity is determined by computing the Body mass index. It is a function of person's height and weight. The exact formula is BMI=Weight/height*height. Thus, height is an important element for determining obesity."
      ],
      "metadata": {
        "id": "6ZFM4mRZrMDe"
      }
    },
    {
      "cell_type": "markdown",
      "source": [
        "Distribution of height values is plotted below. Most people are 1.60 m - 1.85 m tall. "
      ],
      "metadata": {
        "id": "hMB0VDf4rvSU"
      }
    },
    {
      "cell_type": "code",
      "source": [
        "\n",
        "fig = plt.figure(figsize = (16,5))\n",
        "\n",
        "#distplot\n",
        "ax1 = fig.add_subplot(121)\n",
        "sns.distplot(data[\"Height\"], kde=True)"
      ],
      "metadata": {
        "colab": {
          "base_uri": "https://localhost:8080/",
          "height": 406
        },
        "id": "w5CGeOudr06z",
        "outputId": "b49584cc-5b6f-4b19-9816-f3dea5116258"
      },
      "execution_count": null,
      "outputs": [
        {
          "output_type": "stream",
          "name": "stderr",
          "text": [
            "/usr/local/lib/python3.7/dist-packages/seaborn/distributions.py:2619: FutureWarning: `distplot` is a deprecated function and will be removed in a future version. Please adapt your code to use either `displot` (a figure-level function with similar flexibility) or `histplot` (an axes-level function for histograms).\n",
            "  warnings.warn(msg, FutureWarning)\n"
          ]
        },
        {
          "output_type": "execute_result",
          "data": {
            "text/plain": [
              "<matplotlib.axes._subplots.AxesSubplot at 0x7fc0a1e63bd0>"
            ]
          },
          "metadata": {},
          "execution_count": 42
        },
        {
          "output_type": "display_data",
          "data": {
            "text/plain": [
              "<Figure size 1152x360 with 1 Axes>"
            ],
            "image/png": "[encoded data removed]"
          },
          "metadata": {
            "needs_background": "light"
          }
        }
      ]
    },
    {
      "cell_type": "markdown",
      "source": [
        "Weight does not offer interesting observations. Distribution is more or less bi-modal \n",
        "the mean and the median are shifted to the left because of the larger number of people weighting 80 kg."
      ],
      "metadata": {
        "id": "uMm1uPD-senD"
      }
    },
    {
      "cell_type": "code",
      "source": [
        "fig = plt.figure(figsize = (16,5))\n",
        "\n",
        "#distplot\n",
        "ax1 = fig.add_subplot(121)\n",
        "sns.distplot(data[\"Weight\"], kde=True)"
      ],
      "metadata": {
        "colab": {
          "base_uri": "https://localhost:8080/",
          "height": 406
        },
        "id": "fHQuVJKQsGik",
        "outputId": "b8851545-e199-4c96-d123-043e17c0d864"
      },
      "execution_count": null,
      "outputs": [
        {
          "output_type": "stream",
          "name": "stderr",
          "text": [
            "/usr/local/lib/python3.7/dist-packages/seaborn/distributions.py:2619: FutureWarning: `distplot` is a deprecated function and will be removed in a future version. Please adapt your code to use either `displot` (a figure-level function with similar flexibility) or `histplot` (an axes-level function for histograms).\n",
            "  warnings.warn(msg, FutureWarning)\n"
          ]
        },
        {
          "output_type": "execute_result",
          "data": {
            "text/plain": [
              "<matplotlib.axes._subplots.AxesSubplot at 0x7fc0a1d40850>"
            ]
          },
          "metadata": {},
          "execution_count": 43
        },
        {
          "output_type": "display_data",
          "data": {
            "text/plain": [
              "<Figure size 1152x360 with 1 Axes>"
            ],
            "image/png": "[encoded data removed]"
          },
          "metadata": {
            "needs_background": "light"
          }
        }
      ]
    },
    {
      "cell_type": "markdown",
      "source": [
        "You would be suprise to know  about the strong corelation bewtween height and weight in section 3.7 while plotting heat map\n"
      ],
      "metadata": {
        "id": "AnqkJ1mvsuIH"
      }
    },
    {
      "cell_type": "markdown",
      "source": [
        "**3.6 Corelation Heatmap**"
      ],
      "metadata": {
        "id": "f898zleLu4C0"
      }
    },
    {
      "cell_type": "markdown",
      "source": [
        "You already know that if you have a data set with many columns, a good way to quickly check correlations among columns is by visualizing the correlation matrix as a heatmap. You can see the strong corelation between weight and height from the colour of the heatmap"
      ],
      "metadata": {
        "id": "5jjUM_5Zt9w_"
      }
    },
    {
      "cell_type": "code",
      "source": [
        "fig = plt.figure(figsize=(15, 5))\n",
        "\n",
        "# add subplot for one row 2 graphs first postion\n",
        "ax1 = fig.add_subplot(121)\n",
        "\n",
        "\n",
        "# set title \n",
        "ax1.title.set_text(\"Coorelation Heatmap\")\n",
        "\n",
        "#define plot\n",
        "sns.heatmap(data.corr(), \n",
        "                 annot = False,                 \n",
        "                 fmt='.1g', \n",
        "                 cmap=\"YlGnBu\", \n",
        "                 vmin=-1, vmax=1, center= 0,                 \n",
        "                 square=\"True\",\n",
        "                 ax=ax1)"
      ],
      "metadata": {
        "colab": {
          "base_uri": "https://localhost:8080/",
          "height": 378
        },
        "id": "_oHDDTVqCGIk",
        "outputId": "525f022c-190e-4746-d221-9ac94057ced4"
      },
      "execution_count": null,
      "outputs": [
        {
          "output_type": "execute_result",
          "data": {
            "text/plain": [
              "<matplotlib.axes._subplots.AxesSubplot at 0x7ff73874d090>"
            ]
          },
          "metadata": {},
          "execution_count": 24
        },
        {
          "output_type": "display_data",
          "data": {
            "text/plain": [
              "<Figure size 1080x360 with 2 Axes>"
            ],
            "image/png": "[encoded data removed]"
          },
          "metadata": {
            "needs_background": "light"
          }
        }
      ]
    },
    {
      "cell_type": "markdown",
      "source": [
        "Great! dark blue means positive, yellow  means negative. The stronger the color, the larger the correlation magnitude. Now looking at the chart above, think about the following question:\n",
        "\n",
        "What’s the strongest and what’s the weakest correlated pair (except the main diagonal)?\n",
        "(For understanding about what dose column denote refer to data dictionary)\n"
      ],
      "metadata": {
        "id": "dhCVX2y0v1hv"
      }
    },
    {
      "cell_type": "markdown",
      "source": [
        "# Analysis on Dependent Variable (Category of Obesity)"
      ],
      "metadata": {
        "id": "_z0IAKA5n9nV"
      }
    },
    {
      "cell_type": "markdown",
      "source": [
        "Normal, Overweight or Obese?\n",
        "People, according to their Body mass index (BMI), are categorised as:\n",
        "\n",
        "Underweight if BMI < 18.5\n",
        "\n",
        "\n",
        "* Normal if BMI 18.5 - 24.9\n",
        "\n",
        "* Overweight if BMI 25.0 - 29.9\n",
        "\n",
        "* Obesity I if BMI 30.0 - 34.9\n",
        "\n",
        "* Obesity II if BMI 35.0 to 39.9\n",
        "\n",
        "* Obesity III if BMI > 40\n",
        "\n",
        "Number of people per category is displayed below \n",
        "\n",
        "\n",
        "The plot shows the dataset is balanced; only \"Obese Type I\" class slightly outnumber the other categories."
      ],
      "metadata": {
        "id": "4Gs6GDV2k0ft"
      }
    },
    {
      "cell_type": "code",
      "source": [
        "fig = plt.figure(figsize=(12, 5))\n",
        "\n",
        "sns.countplot(x='NObeyesdad',palette=\"Blues_d\",data=data)\n"
      ],
      "metadata": {
        "colab": {
          "base_uri": "https://localhost:8080/",
          "height": 352
        },
        "id": "nkAYp5rjCnUV",
        "outputId": "60f4cfe9-12a7-43dd-e2ae-5db6ff659ab7"
      },
      "execution_count": null,
      "outputs": [
        {
          "output_type": "execute_result",
          "data": {
            "text/plain": [
              "<matplotlib.axes._subplots.AxesSubplot at 0x7fc0a49f0dd0>"
            ]
          },
          "metadata": {},
          "execution_count": 24
        },
        {
          "output_type": "display_data",
          "data": {
            "text/plain": [
              "<Figure size 864x360 with 1 Axes>"
            ],
            "image/png": "[encoded data removed]"
          },
          "metadata": {
            "needs_background": "light"
          }
        }
      ]
    },
    {
      "cell_type": "markdown",
      "source": [
        "It is interesting to see how Overweight/Obesity interact with different categorical variables. The function below computes and plots this interaction."
      ],
      "metadata": {
        "id": "B5of0QbXliMC"
      }
    },
    {
      "cell_type": "code",
      "source": [
        "def cross_plot(dataset, lead_category, sup_category, order = None):\n",
        "    \"\"\"\n",
        "    Function: Plots interaction between two categorical variables.\n",
        "    \n",
        "    Parameters: Dataset, lead category, suplemental category, and order of appearance (order is optional).\n",
        "    \"\"\"\n",
        "    \n",
        "    sns.countplot(x = lead_category, hue = sup_category, data = data, order = order, palette = \"Blues_r\")\n",
        "    \n",
        "    plt.show()"
      ],
      "metadata": {
        "id": "H58hE7kMlgnk"
      },
      "execution_count": null,
      "outputs": []
    },
    {
      "cell_type": "markdown",
      "source": [
        "Women are more likely to have \"Insufficient weight\" than men. On the other hand, there are more obese men than women, save in the last, extreme obesity category."
      ],
      "metadata": {
        "id": "ucjMz1qrl4az"
      }
    },
    {
      "cell_type": "code",
      "source": [
        "plt.figure(figsize = (12, 5))\n",
        "cross_plot(data, \"NObeyesdad\", \"Gender\", [\"Insufficient_Weight\", \"Normal_Weight\", \n",
        "                                          \"Overweight_Level_I\", \"Overweight_Level_II\", \"Obesity_Type_I\", \"Obesity_Type_II\", \"Obesity_Type_III\"])"
      ],
      "metadata": {
        "colab": {
          "base_uri": "https://localhost:8080/",
          "height": 335
        },
        "id": "L2IYp0pblyzr",
        "outputId": "88580b99-4df8-4c20-b97b-0fdf66e825fd"
      },
      "execution_count": null,
      "outputs": [
        {
          "output_type": "display_data",
          "data": {
            "text/plain": [
              "<Figure size 864x360 with 1 Axes>"
            ],
            "image/png": "[encoded data removed]"
          },
          "metadata": {
            "needs_background": "light"
          }
        }
      ]
    },
    {
      "cell_type": "markdown",
      "source": [
        "Overweight and family history\n",
        "\n",
        "It seems obesity runs in the family. All those categorised as overweight or obese had family members suffering from weight problems."
      ],
      "metadata": {
        "id": "KRpQcvGnmcF6"
      }
    },
    {
      "cell_type": "code",
      "source": [
        "plt.figure(figsize = (12, 5))\n",
        "cross_plot(data, \"NObeyesdad\", \"family_history_with_overweight\", [\"Insufficient_Weight\", \"Normal_Weight\", \"Overweight_Level_I\", \n",
        "                                                                  \"Overweight_Level_II\", \"Obesity_Type_I\", \"Obesity_Type_II\", \"Obesity_Type_III\"])"
      ],
      "metadata": {
        "colab": {
          "base_uri": "https://localhost:8080/",
          "height": 335
        },
        "id": "aqa_FL8CmaEK",
        "outputId": "488ed866-57e9-4261-a078-e49021c3c384"
      },
      "execution_count": null,
      "outputs": [
        {
          "output_type": "display_data",
          "data": {
            "text/plain": [
              "<Figure size 864x360 with 1 Axes>"
            ],
            "image/png": "[encoded data removed]"
          },
          "metadata": {
            "needs_background": "light"
          }
        }
      ]
    },
    {
      "cell_type": "markdown",
      "source": [
        "Overweight and high calories food\n",
        "\n",
        "Both normal weight and overweight/obese people consume high calories food. Perhaps food quantity makes the difference and affects body fats."
      ],
      "metadata": {
        "id": "AKhcp-nomskk"
      }
    },
    {
      "cell_type": "code",
      "source": [
        "plt.figure(figsize = (12, 5))\n",
        "cross_plot(data, \"NObeyesdad\", \"FAVC\", [\"Insufficient_Weight\", \"Normal_Weight\",\n",
        "                                                \"Overweight_Level_I\", \"Overweight_Level_II\", \"Obesity_Type_I\", \"Obesity_Type_II\", \"Obesity_Type_III\"]) "
      ],
      "metadata": {
        "colab": {
          "base_uri": "https://localhost:8080/",
          "height": 335
        },
        "id": "6b0ahoIGm0_r",
        "outputId": "a25cd396-7dfa-4165-cfb0-8a34999fa10e"
      },
      "execution_count": null,
      "outputs": [
        {
          "output_type": "display_data",
          "data": {
            "text/plain": [
              "<Figure size 864x360 with 1 Axes>"
            ],
            "image/png": "[encoded data removed]"
          },
          "metadata": {
            "needs_background": "light"
          }
        }
      ]
    },
    {
      "cell_type": "markdown",
      "source": [
        "Overweight and food between meals\n",
        "\n",
        "Weight of those who \"frequently\" or \"always\" get food between meals does not seem to be abnormal. Only people having snaks from time to time go into \"Overweight\" or \"Obesity\" categories."
      ],
      "metadata": {
        "id": "nL5KwJDzm-pV"
      }
    },
    {
      "cell_type": "code",
      "source": [
        "plt.figure(figsize = (18, 5))\n",
        "cross_plot(data, \"NObeyesdad\", \"CAEC\", [\"Insufficient_Weight\", \"Normal_Weight\", \"Overweight_Level_I\", \n",
        "                                                \"Overweight_Level_II\", \"Obesity_Type_I\", \"Obesity_Type_II\", \"Obesity_Type_III\"]) "
      ],
      "metadata": {
        "colab": {
          "base_uri": "https://localhost:8080/",
          "height": 335
        },
        "id": "dNN1vKesm-Fe",
        "outputId": "3118c302-f033-48e1-bb23-a1688cbd2dfb"
      },
      "execution_count": null,
      "outputs": [
        {
          "output_type": "display_data",
          "data": {
            "text/plain": [
              "<Figure size 1296x360 with 1 Axes>"
            ],
            "image/png": "[encoded data removed]"
          },
          "metadata": {
            "needs_background": "light"
          }
        }
      ]
    },
    {
      "cell_type": "markdown",
      "source": [
        "Overweight and smoking\n",
        "\n",
        "It seems smoking is not a predictor or does not affect body weight. There is a tiny number of smokers who could be both normal and overweight."
      ],
      "metadata": {
        "id": "JZB75FKwm0CS"
      }
    },
    {
      "cell_type": "code",
      "source": [
        "plt.figure(figsize = (12, 5))\n",
        "cross_plot(data, \"NObeyesdad\", \"SMOKE\", [\"Insufficient_Weight\", \"Normal_Weight\", \"Overweight_Level_I\",\n",
        "                                                 \"Overweight_Level_II\", \"Obesity_Type_I\", \"Obesity_Type_II\", \"Obesity_Type_III\"]) "
      ],
      "metadata": {
        "colab": {
          "base_uri": "https://localhost:8080/",
          "height": 335
        },
        "id": "gkVNDVeunS5r",
        "outputId": "1226c203-f541-48ee-fb58-23818116b4db"
      },
      "execution_count": null,
      "outputs": [
        {
          "output_type": "display_data",
          "data": {
            "text/plain": [
              "<Figure size 864x360 with 1 Axes>"
            ],
            "image/png": "[encoded data removed]"
          },
          "metadata": {
            "needs_background": "light"
          }
        }
      ]
    },
    {
      "cell_type": "markdown",
      "source": [
        "Overweight and monitoring calories\n",
        "People who tend to monitor their calories intake are less likely to get excess weight."
      ],
      "metadata": {
        "id": "WLwLwqnUnday"
      }
    },
    {
      "cell_type": "code",
      "source": [
        "plt.figure(figsize = (13, 5))\n",
        "cross_plot(data, \"NObeyesdad\", \"SCC\", [\"Insufficient_Weight\", \"Normal_Weight\", \"Overweight_Level_I\",\n",
        "                                               \"Overweight_Level_II\", \"Obesity_Type_I\", \"Obesity_Type_II\", \"Obesity_Type_III\"]) "
      ],
      "metadata": {
        "colab": {
          "base_uri": "https://localhost:8080/",
          "height": 335
        },
        "id": "upN4hC1anhur",
        "outputId": "1665f843-44b8-41de-d635-f7d574bdc717"
      },
      "execution_count": null,
      "outputs": [
        {
          "output_type": "display_data",
          "data": {
            "text/plain": [
              "<Figure size 936x360 with 1 Axes>"
            ],
            "image/png": "[encoded data removed]"
          },
          "metadata": {
            "needs_background": "light"
          }
        }
      ]
    },
    {
      "cell_type": "markdown",
      "source": [
        "Overweight and means of transport\n",
        "\n",
        "Transportation seems does not (significantly) affect a person's weight. Both slim, normal and overweight people use public transport; all groups rely on cars as well\n"
      ],
      "metadata": {
        "id": "DF74C_4hnocy"
      }
    },
    {
      "cell_type": "code",
      "source": [
        "plt.figure(figsize = (18, 5))\n",
        "cross_plot(data, \"NObeyesdad\", \"MTRANS\", [\"Insufficient_Weight\", \"Normal_Weight\", \"Overweight_Level_I\", \n",
        "                                                  \"Overweight_Level_II\", \"Obesity_Type_I\", \"Obesity_Type_II\", \"Obesity_Type_III\"]) "
      ],
      "metadata": {
        "colab": {
          "base_uri": "https://localhost:8080/",
          "height": 335
        },
        "id": "7v4tbNVGnvdy",
        "outputId": "45fa649d-357a-4fcf-b063-f11277f5b9a4"
      },
      "execution_count": null,
      "outputs": [
        {
          "output_type": "display_data",
          "data": {
            "text/plain": [
              "<Figure size 1296x360 with 1 Axes>"
            ],
            "image/png": "[encoded data removed]"
          },
          "metadata": {
            "needs_background": "light"
          }
        }
      ]
    },
    {
      "cell_type": "markdown",
      "source": [
        "#CONCLUSION"
      ],
      "metadata": {
        "id": "74WhuaZOS7pJ"
      }
    },
    {
      "cell_type": "markdown",
      "source": [
        "**CONCLUSION**\n",
        "1. There are no null values in dataset.\n",
        "2. Most of the high corelation variables are not normaly distributed and they are following Bernoli Distribution.\n",
        "3. Age is also spread over wide range of data.\n",
        "4. Some feature can be dropped with some domain knowledge as they have very less corelation \n",
        "5. Women are more likely to have \"Insufficient weight\" than men. On the other hand, there are more obese men than women, save in the last, extreme obesity category.\n",
        "6. Both normal weight and overweight/obese people consume high calories food. Perhaps food quantity makes the difference and affects body fats.\n",
        "7. People who tend to monitor their calories intake are less likely to get excess weight.\n",
        "\n",
        "\n",
        "\n",
        "This conclusion would be important during our model selection and buulding our model pipeline.\n",
        "\n"
      ],
      "metadata": {
        "id": "2kJ8k1ZNx7V3"
      }
    }
  ]
}